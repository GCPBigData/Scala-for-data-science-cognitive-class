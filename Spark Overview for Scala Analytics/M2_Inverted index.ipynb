{
 "cells": [
  {
   "cell_type": "code",
   "execution_count": 1,
   "metadata": {},
   "outputs": [
    {
     "data": {
      "text/plain": [
       "\u001b[32mimport \u001b[39m\u001b[36m$ivy.$                                   // Or use any other 2.x version here\n",
       "\u001b[39m\n",
       "\u001b[32mimport \u001b[39m\u001b[36morg.apache.log4j.{Level, Logger}\n",
       "\u001b[39m"
      ]
     },
     "execution_count": 1,
     "metadata": {},
     "output_type": "execute_result"
    }
   ],
   "source": [
    "import $ivy.`org.apache.spark::spark-sql:2.4.0` // Or use any other 2.x version here\n",
    "import org.apache.log4j.{Level, Logger}\n",
    "Logger.getLogger(\"org\").setLevel(Level.OFF)"
   ]
  },
  {
   "cell_type": "code",
   "execution_count": 2,
   "metadata": {},
   "outputs": [
    {
     "data": {
      "text/plain": [
       "\u001b[32mimport \u001b[39m\u001b[36morg.apache.spark.SparkContext\u001b[39m"
      ]
     },
     "execution_count": 2,
     "metadata": {},
     "output_type": "execute_result"
    }
   ],
   "source": [
    "import org.apache.spark.SparkContext"
   ]
  },
  {
   "cell_type": "code",
   "execution_count": 5,
   "metadata": {},
   "outputs": [
    {
     "data": {
      "text/plain": [
       "\u001b[36msc\u001b[39m: \u001b[32mSparkContext\u001b[39m = org.apache.spark.SparkContext@5ba95b83"
      ]
     },
     "execution_count": 5,
     "metadata": {},
     "output_type": "execute_result"
    }
   ],
   "source": [
    "val sc= new SparkContext(\"local[*]\", \"inverted index\")"
   ]
  },
  {
   "cell_type": "code",
   "execution_count": 6,
   "metadata": {},
   "outputs": [
    {
     "data": {
      "text/plain": [
       "\u001b[36mseparator\u001b[39m: \u001b[32mString\u001b[39m = \u001b[32m\"/\"\u001b[39m"
      ]
     },
     "execution_count": 6,
     "metadata": {},
     "output_type": "execute_result"
    }
   ],
   "source": [
    "val separator= java.io.File.separator"
   ]
  },
  {
   "cell_type": "code",
   "execution_count": 27,
   "metadata": {},
   "outputs": [
    {
     "data": {
      "text/plain": [
       "\u001b[36minpath\u001b[39m: \u001b[32mString\u001b[39m = \u001b[32m\"data/enron-spam-ham/*\"\u001b[39m"
      ]
     },
     "execution_count": 27,
     "metadata": {},
     "output_type": "execute_result"
    }
   ],
   "source": [
    "val inpath= \"data/enron-spam-ham/*\""
   ]
  },
  {
   "cell_type": "code",
   "execution_count": 28,
   "metadata": {},
   "outputs": [
    {
     "data": {
      "text/plain": [
       "\u001b[36moutpath\u001b[39m: \u001b[32mString\u001b[39m = \u001b[32m\"output/crawl\"\u001b[39m"
      ]
     },
     "execution_count": 28,
     "metadata": {},
     "output_type": "execute_result"
    }
   ],
   "source": [
    "val outpath= \"output/crawl\""
   ]
  },
  {
   "cell_type": "code",
   "execution_count": 29,
   "metadata": {},
   "outputs": [
    {
     "data": {
      "text/plain": [
       "\u001b[36mfiles_contents\u001b[39m: \u001b[32morg\u001b[39m.\u001b[32mapache\u001b[39m.\u001b[32mspark\u001b[39m.\u001b[32mrdd\u001b[39m.\u001b[32mRDD\u001b[39m[(\u001b[32mString\u001b[39m, \u001b[32mString\u001b[39m)] = MapPartitionsRDD[34] at map at cmd28.sc:1"
      ]
     },
     "execution_count": 29,
     "metadata": {},
     "output_type": "execute_result"
    }
   ],
   "source": [
    "val files_contents= sc.wholeTextFiles(inpath).map{\n",
    "    case (id,text) =>\n",
    "        val id2= id.split(\"/\").last\n",
    "        (id2,text.trim.replaceAll(\"\"\"([\\p{Punct}&&[^.]]|\\b\\p{IsLetter}{1,2}\\b)\\s*|\\s*\\n\\s*\"\"\", \" \"))\n",
    "}"
   ]
  },
  {
   "cell_type": "code",
   "execution_count": 31,
   "metadata": {},
   "outputs": [],
   "source": [
    "files_contents.saveAsTextFile(outpath)"
   ]
  },
  {
   "cell_type": "code",
   "execution_count": 32,
   "metadata": {},
   "outputs": [
    {
     "data": {
      "text/plain": [
       "\u001b[36mres31\u001b[39m: \u001b[32mArray\u001b[39m[(\u001b[32mString\u001b[39m, \u001b[32mString\u001b[39m)] = \u001b[33mArray\u001b[39m(\n",
       "  (\u001b[32m\"0001.1999-12-10.farmer.ham.txt\"\u001b[39m, \u001b[32m\"Subject christmas tree farm pictures\"\u001b[39m)\n",
       ")"
      ]
     },
     "execution_count": 32,
     "metadata": {},
     "output_type": "execute_result"
    }
   ],
   "source": [
    "files_contents.take(1)"
   ]
  },
  {
   "cell_type": "code",
   "execution_count": 33,
   "metadata": {},
   "outputs": [
    {
     "data": {
      "text/plain": [
       "\u001b[36moutpath2\u001b[39m: \u001b[32mString\u001b[39m = \u001b[32m\"output/inverted-index\"\u001b[39m"
      ]
     },
     "execution_count": 33,
     "metadata": {},
     "output_type": "execute_result"
    }
   ],
   "source": [
    "val outpath2= \"output/inverted-index\""
   ]
  },
  {
   "cell_type": "code",
   "execution_count": 34,
   "metadata": {},
   "outputs": [
    {
     "data": {
      "text/plain": [
       "\u001b[36minput\u001b[39m: \u001b[32morg\u001b[39m.\u001b[32mapache\u001b[39m.\u001b[32mspark\u001b[39m.\u001b[32mrdd\u001b[39m.\u001b[32mRDD\u001b[39m[\u001b[32mString\u001b[39m] = output/crawl MapPartitionsRDD[38] at textFile at cmd33.sc:1"
      ]
     },
     "execution_count": 34,
     "metadata": {},
     "output_type": "execute_result"
    }
   ],
   "source": [
    "val input= sc.textFile(outpath)"
   ]
  },
  {
   "cell_type": "code",
   "execution_count": 35,
   "metadata": {},
   "outputs": [
    {
     "data": {
      "text/plain": [
       "\u001b[36mindex\u001b[39m: \u001b[32morg\u001b[39m.\u001b[32mapache\u001b[39m.\u001b[32mspark\u001b[39m.\u001b[32mrdd\u001b[39m.\u001b[32mRDD\u001b[39m[(\u001b[32mString\u001b[39m, \u001b[32mString\u001b[39m)] = MapPartitionsRDD[43] at map at cmd34.sc:8"
      ]
     },
     "execution_count": 35,
     "metadata": {},
     "output_type": "execute_result"
    }
   ],
   "source": [
    "val index= files_contents.flatMap{\n",
    "    case (path,text)=>\n",
    "        text.trim.split(\"\"\"[^\\w]\"\"\").map(word=> ((word,path),1))\n",
    "}\n",
    ".reduceByKey(_+_)\n",
    ".map{case ((word,path),n) => (word,(path,n))}\n",
    ".groupByKey\n",
    ".map {case(word, iterable)=> \n",
    "    val vec= iterable.to[Vector].sortBy{case (path,n) => (-n,path)}\n",
    "    (word,vec.mkString(\", \"))\n",
    "}\n"
   ]
  },
  {
   "cell_type": "code",
   "execution_count": 36,
   "metadata": {},
   "outputs": [
    {
     "data": {
      "text/plain": [
       "\u001b[36mres35\u001b[39m: \u001b[32mArray\u001b[39m[(\u001b[32mString\u001b[39m, \u001b[32mString\u001b[39m)] = \u001b[33mArray\u001b[39m(\n",
       "  (\u001b[32m\"sellens\"\u001b[39m, \u001b[32m\"(0009.2000-06-07.lokay.ham.txt,1)\"\u001b[39m),\n",
       "  (\u001b[32m\"pitifully\"\u001b[39m, \u001b[32m\"(0013.2004-08-01.BG.spam.txt,1)\"\u001b[39m),\n",
       "  (\n",
       "    \u001b[32m\"someone\"\u001b[39m,\n",
       "    \u001b[32m\"(0027.1999-12-16.kaminski.ham.txt,5), (0016.2001-07-06.SA_and_HP.spam.txt,4), (0019.2001-07-06.SA_and_HP.spam.txt,4), (0011.2001-06-29.SA_and_HP.spam.txt,3), (0013.2001-06-30.SA_and_HP.spam.txt,3), (0002.1999-12-13.farmer.ham.txt,1), (0029.2001-08-03.SA_and_HP.spam.txt,1), (0030.1999-12-20.farmer.ham.txt,1)\"\u001b[39m\n",
       "  ),\n",
       "  (\u001b[32m\"bone\"\u001b[39m, \u001b[32m\"(0006.2003-12-18.GP.spam.txt,1)\"\u001b[39m),\n",
       "  (\u001b[32m\"darlington\"\u001b[39m, \u001b[32m\"(0023.2004-08-02.BG.spam.txt,1)\"\u001b[39m)\n",
       ")"
      ]
     },
     "execution_count": 36,
     "metadata": {},
     "output_type": "execute_result"
    }
   ],
   "source": [
    "index.take(5)"
   ]
  },
  {
   "cell_type": "code",
   "execution_count": 37,
   "metadata": {},
   "outputs": [],
   "source": [
    "index.saveAsTextFile(outpath2)"
   ]
  },
  {
   "cell_type": "code",
   "execution_count": 38,
   "metadata": {},
   "outputs": [],
   "source": [
    "sc.stop()"
   ]
  },
  {
   "cell_type": "code",
   "execution_count": null,
   "metadata": {},
   "outputs": [],
   "source": []
  }
 ],
 "metadata": {
  "kernelspec": {
   "display_name": "Scala 2.12.8",
   "language": "scala",
   "name": "scala_2_12_8"
  },
  "language_info": {
   "codemirror_mode": "text/x-scala",
   "file_extension": ".scala",
   "mimetype": "text/x-scala",
   "name": "scala",
   "nbconvert_exporter": "script",
   "version": "2.12.8"
  }
 },
 "nbformat": 4,
 "nbformat_minor": 2
}
