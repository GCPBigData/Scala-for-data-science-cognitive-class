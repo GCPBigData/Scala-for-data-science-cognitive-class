{
 "cells": [
  {
   "cell_type": "markdown",
   "metadata": {},
   "source": [
    "<a href=\"https://cocl.us/Data_Science_with_Scalla_top\"><img src = \"https://s3-api.us-geo.objectstorage.softlayer.net/cf-courses-data/CognitiveClass/SC0103EN/adds/Data_Science_with_Scalla_notebook_top.png\" width = 750, align = \"center\"></a>\n",
    " <br/>\n",
    "<a><img src=\"https://ibm.box.com/shared/static/ugcqz6ohbvff804xp84y4kqnvvk3bq1g.png\" width=\"200\" align=\"center\"></a>\"\n",
    "\n",
    "##  Module 1: Vectors and Labelled Points\n",
    "\n",
    "##  VECTORS AND LABELLED POINTS \n",
    "\n",
    "## Lesson Objectives \n",
    "After completing this lesson, you should be able to: \n",
    "\n",
    "- Understand local vectors and labeled points\n",
    "- Create dense and sparse vectors \n",
    "- Create labeled points\n",
    "\n",
    "### MLlib's Local Vectors \n",
    " \n",
    "Scala imports scala.collections.immutable.Vector by default.\n",
    "\n",
    "You have to import `org.apache.spark.mllib.linalg.{Vector, Vectors}` to use MLlib Vectors. \n",
    "Indices are 0-based integers on a single machine \n",
    "MLlib's vectors can either be dense or sparse.\n",
    "\n",
    "### Dense Vector \n",
    "\n",
    "A dense vector is backed by a double array containing its values\n",
    "It is the \"obvious\" implementation of a Vector \n",
    "Easily created from an array of doubles.\n",
    "\n",
    "\n",
    "### Dense Vector Example"
   ]
  },
  {
   "cell_type": "code",
   "execution_count": 2,
   "metadata": {},
   "outputs": [
    {
     "data": {
      "text/plain": [
       "\u001b[32mimport \u001b[39m\u001b[36m$ivy.$                                   // Or use any other 2.x version here\n",
       "\u001b[39m\n",
       "\u001b[32mimport \u001b[39m\u001b[36m$ivy.$                                     // Or use any other 2.x version here\n",
       "\u001b[39m"
      ]
     },
     "execution_count": 2,
     "metadata": {},
     "output_type": "execute_result"
    }
   ],
   "source": [
    "import $ivy.`org.apache.spark::spark-sql:2.4.0` // Or use any other 2.x version here\n",
    "import $ivy.`org.apache.spark::spark-mllib:2.4.0` // Or use any other 2.x version here\n"
   ]
  },
  {
   "cell_type": "code",
   "execution_count": 3,
   "metadata": {
    "attributes": {
     "classes": [
      "scala"
     ],
     "id": ""
    }
   },
   "outputs": [
    {
     "data": {
      "text/plain": [
       "\u001b[32mimport \u001b[39m\u001b[36m org.apache.spark.mllib.linalg.{Vector ,  Vectors}\u001b[39m"
      ]
     },
     "execution_count": 3,
     "metadata": {},
     "output_type": "execute_result"
    }
   ],
   "source": [
    "import  org.apache.spark.mllib.linalg.{Vector ,  Vectors}"
   ]
  },
  {
   "cell_type": "code",
   "execution_count": 4,
   "metadata": {
    "attributes": {
     "classes": [
      "scala"
     ],
     "id": ""
    }
   },
   "outputs": [
    {
     "name": "stdout",
     "output_type": "stream",
     "text": [
      "[44.0,0.0,55.0]"
     ]
    }
   ],
   "source": [
    "print(Vectors.dense(44.0,  0.0,  55.0))"
   ]
  },
  {
   "cell_type": "markdown",
   "metadata": {},
   "source": [
    "### Sparse Vector\n",
    "A sparse vector is backed by two arrays: \n",
    "an integer array representing the indexes \n",
    "a double array containing the corresponding values.\n",
    "\n",
    "It is a binary-search implementation of a Vector.\n",
    "Can be created by specifying the indices and values for non-zero entries. Either two separate arrays or\n",
    "a sequence of tuples. \n",
    "\n",
    "\n",
    "### Sparse Vector Examples"
   ]
  },
  {
   "cell_type": "code",
   "execution_count": 5,
   "metadata": {
    "attributes": {
     "classes": [
      "scala"
     ],
     "id": ""
    }
   },
   "outputs": [
    {
     "data": {
      "text/plain": [
       "\u001b[36mres4\u001b[39m: \u001b[32mVector\u001b[39m = (3,[0,2],[44.0,55.0])"
      ]
     },
     "execution_count": 5,
     "metadata": {},
     "output_type": "execute_result"
    }
   ],
   "source": [
    "Vectors.sparse(3,  Array(0,  2),  Array(44.0, 55.0))\n",
    "\n"
   ]
  },
  {
   "cell_type": "code",
   "execution_count": 6,
   "metadata": {
    "attributes": {
     "classes": [
      "scala"
     ],
     "id": ""
    }
   },
   "outputs": [
    {
     "data": {
      "text/plain": [
       "\u001b[36mres5\u001b[39m: \u001b[32mVector\u001b[39m = (3,[0,2],[44.0,55.0])"
      ]
     },
     "execution_count": 6,
     "metadata": {},
     "output_type": "execute_result"
    }
   ],
   "source": [
    "Vectors.sparse(3,  Seq((0,  44.0),  (2,  55.0)))"
   ]
  },
  {
   "cell_type": "markdown",
   "metadata": {},
   "source": [
    "### Labeled Points I\n",
    "The association of a vector, either dense or sparse, with a corresponding label/response.\n",
    "\n",
    "Used in supervised machine learning algorithms.\n",
    "\n",
    "\n",
    "### Supervised Learning Algorithms \n",
    "Supervised learning: a machine is told the \"correct\" answers so it can look for similar patterns \n",
    "Unsupervised learning: where the machine has to make intelligent guesses\n",
    "\n",
    "### Labeled Points II \n",
    "Labels are needed for supervised machine learning \n",
    "Labels are stored as doubles so they can be used in both regression and classification problems\n",
    "\n",
    "\n",
    "### Labeled Points III\n",
    "In classification problems, labels must be: \n",
    "0 (negative) or 1 (positive) for binary classification \n",
    "class indices starting from zero (0, 1, 2...) for multiclass \n",
    "\n",
    "\n",
    "### Labeled Point Examples"
   ]
  },
  {
   "cell_type": "code",
   "execution_count": 7,
   "metadata": {
    "attributes": {
     "classes": [
      "scala"
     ],
     "id": ""
    }
   },
   "outputs": [
    {
     "data": {
      "text/plain": [
       "\u001b[32mimport \u001b[39m\u001b[36m org.apache.spark.mllib.regression.LabeledPoint\n",
       "\n",
       "\u001b[39m\n",
       "\u001b[36mres6_1\u001b[39m: \u001b[32mLabeledPoint\u001b[39m = \u001b[33mLabeledPoint\u001b[39m(\u001b[32m1.0\u001b[39m, [44.0,0.0,55.0])\n",
       "\u001b[36mres6_2\u001b[39m: \u001b[32mLabeledPoint\u001b[39m = \u001b[33mLabeledPoint\u001b[39m(\u001b[32m0.0\u001b[39m, (3,[0,2],[44.0,55.0]))"
      ]
     },
     "execution_count": 7,
     "metadata": {},
     "output_type": "execute_result"
    }
   ],
   "source": [
    "import  org.apache.spark.mllib.regression.LabeledPoint\n",
    "\n",
    "LabeledPoint(1.0,  Vectors.dense(44.0, 0.0, 55.0))\n",
    "\n",
    "LabeledPoint(0.0,  Vectors.sparse(3, Array(0, 2) , Array(44.0, 55.0)))"
   ]
  },
  {
   "cell_type": "markdown",
   "metadata": {},
   "source": [
    "### About the Authors\n",
    "\n",
    "[Petro Verkhogliad](https://www.linkedin.com/in/vpetro) is Consulting Manager at Lightbend. He holds a Masters degree in Computer Science with specialization in Intelligent Systems. He is passionate about functional programming and applications of AI."
   ]
  },
  {
   "cell_type": "code",
   "execution_count": null,
   "metadata": {},
   "outputs": [],
   "source": []
  }
 ],
 "metadata": {
  "kernelspec": {
   "display_name": "Scala 2.12.8",
   "language": "scala",
   "name": "scala_2_12_8"
  },
  "language_info": {
   "codemirror_mode": "text/x-scala",
   "file_extension": ".scala",
   "mimetype": "text/x-scala",
   "name": "scala",
   "nbconvert_exporter": "script",
   "version": "2.12.8"
  }
 },
 "nbformat": 4,
 "nbformat_minor": 4
}
