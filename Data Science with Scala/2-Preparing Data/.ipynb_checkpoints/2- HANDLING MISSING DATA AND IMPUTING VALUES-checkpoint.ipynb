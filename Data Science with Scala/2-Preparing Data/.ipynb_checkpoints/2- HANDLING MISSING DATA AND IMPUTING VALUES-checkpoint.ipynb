{
 "cells": [
  {
   "cell_type": "markdown",
   "metadata": {},
   "source": [
    "<a href=\"https://cocl.us/Data_Science_with_Scalla_top\"><img src = \"https://s3-api.us-geo.objectstorage.softlayer.net/cf-courses-data/CognitiveClass/SC0103EN/adds/Data_Science_with_Scalla_notebook_top.png\" width = 750, align = \"center\"></a>\n",
    " <br/>\n",
    "<a><img src=\"https://ibm.box.com/shared/static/ugcqz6ohbvff804xp84y4kqnvvk3bq1g.png\" width=\"200\" align=\"center\"></a>\"\n",
    "\n",
    "# Module 2: Preparing Data\n",
    "\n",
    "## Handling Missing Data and Imputing Values\n",
    "\n",
    "### Lesson Objectives \n",
    "\n",
    "-\tAfter completing this lesson, you should be able to: \n",
    "- Drop records according to different criteria\n",
    "-\tFill missing data according to different criteria\n",
    "-\tDrop duplicate records\n",
    "\n",
    "\n",
    "## DataFrame NA Functions \n",
    "\n",
    "-\tThe `na` method of DataFrames provides functionality for working with missing data \n",
    "- Returns an instance of `DataFrameNAFunctions`\n",
    "-\tThe following methods are available: \n",
    "  -\t`drop`, for dropping rows containing NaN or null values \n",
    "  -\t`fill`, for replacing NaN or null values \n",
    "  -\t`replace`,  for replacing values matching specified keys"
   ]
  },
  {
   "cell_type": "code",
   "execution_count": 1,
   "metadata": {},
   "outputs": [
    {
     "name": "stderr",
     "output_type": "stream",
     "text": [
      "Using Spark's default log4j profile: org/apache/spark/log4j-defaults.properties\n"
     ]
    },
    {
     "data": {
      "text/plain": [
       "\u001b[32mimport \u001b[39m\u001b[36m$ivy.$                                   // Or use any other 2.x version here\n",
       "\u001b[39m\n",
       "\u001b[32mimport \u001b[39m\u001b[36m$ivy.$                                     // Or use any other 2.x version here\n",
       "\u001b[39m\n",
       "\u001b[32mimport \u001b[39m\u001b[36m org.apache.spark.SparkContext\n",
       "\u001b[39m\n",
       "\u001b[32mimport \u001b[39m\u001b[36morg.apache.log4j.{Level, Logger}\n",
       "\u001b[39m\n",
       "\u001b[36msc\u001b[39m: \u001b[32mSparkContext\u001b[39m = org.apache.spark.SparkContext@1314fa65"
      ]
     },
     "execution_count": 1,
     "metadata": {},
     "output_type": "execute_result"
    }
   ],
   "source": [
    "import $ivy.`org.apache.spark::spark-sql:2.4.0` // Or use any other 2.x version here\n",
    "import $ivy.`org.apache.spark::spark-mllib:2.4.0` // Or use any other 2.x version here\n",
    "import  org.apache.spark.SparkContext\n",
    "import org.apache.log4j.{Level, Logger}\n",
    "Logger.getLogger(\"org\").setLevel(Level.OFF)\n",
    "val sc= new SparkContext(\"local[*]\",\"stats\")"
   ]
  },
  {
   "cell_type": "code",
   "execution_count": 2,
   "metadata": {
    "attributes": {
     "classes": [
      "scala"
     ],
     "id": ""
    }
   },
   "outputs": [
    {
     "data": {
      "text/plain": [
       "\u001b[32mimport \u001b[39m\u001b[36morg.apache.spark.sql.SparkSession\n",
       "\u001b[39m\n",
       "\u001b[36mspark\u001b[39m: \u001b[32mSparkSession\u001b[39m = org.apache.spark.sql.SparkSession@7146ed5\n",
       "\u001b[32mimport \u001b[39m\u001b[36mspark.implicits._\n",
       "\u001b[39m\n",
       "\u001b[32mimport \u001b[39m\u001b[36morg.apache.spark.sql.functions._\u001b[39m"
      ]
     },
     "execution_count": 2,
     "metadata": {},
     "output_type": "execute_result"
    }
   ],
   "source": [
    "import org.apache.spark.sql.SparkSession\n",
    "val spark = SparkSession.builder().getOrCreate()\n",
    "import spark.implicits._\n",
    "import org.apache.spark.sql.functions._"
   ]
  },
  {
   "cell_type": "code",
   "execution_count": 3,
   "metadata": {
    "attributes": {
     "classes": [
      "scala"
     ],
     "id": ""
    }
   },
   "outputs": [
    {
     "name": "stdout",
     "output_type": "stream",
     "text": [
      "+---+-------------------+--------------------+\n",
      "| id|            uniform|           nanNormal|\n",
      "+---+-------------------+--------------------+\n",
      "|  0|0.41371264720975787| -0.5877482396744728|\n",
      "|  1|                NaN|                 NaN|\n",
      "|  2| 0.1982919638208397|  -0.256535324205377|\n",
      "|  3|0.12714181165849525|-0.31703264334668824|\n",
      "|  4|                NaN|  0.4977629425313746|\n",
      "|  5|0.12030715258495939|  -0.506853671746243|\n",
      "|  6|0.12131363910425985|                 NaN|\n",
      "|  7|0.44292918521277047| -0.1413699193557902|\n",
      "|  8|                NaN|  0.9657665088756656|\n",
      "|  9|0.03650707717266999| -0.5021009082343131|\n",
      "+---+-------------------+--------------------+\n",
      "\n"
     ]
    },
    {
     "data": {
      "text/plain": [
       "\u001b[36mdf\u001b[39m: \u001b[32morg\u001b[39m.\u001b[32mapache\u001b[39m.\u001b[32mspark\u001b[39m.\u001b[32msql\u001b[39m.\u001b[32mpackage\u001b[39m.\u001b[32mDataFrame\u001b[39m = [id: bigint, uniform: double ... 1 more field]\n",
       "\u001b[36mhalfTonNaN\u001b[39m: \u001b[32morg\u001b[39m.\u001b[32mapache\u001b[39m.\u001b[32mspark\u001b[39m.\u001b[32msql\u001b[39m.\u001b[32mexpressions\u001b[39m.\u001b[32mUserDefinedFunction\u001b[39m = \u001b[33mUserDefinedFunction\u001b[39m(\n",
       "  ammonite.$sess.cmd2$Helper$$Lambda$3698/348501435@fc20d92,\n",
       "  DoubleType,\n",
       "  \u001b[33mSome\u001b[39m(\u001b[33mList\u001b[39m(DoubleType))\n",
       ")\n",
       "\u001b[36moneToNaN\u001b[39m: \u001b[32morg\u001b[39m.\u001b[32mapache\u001b[39m.\u001b[32mspark\u001b[39m.\u001b[32msql\u001b[39m.\u001b[32mexpressions\u001b[39m.\u001b[32mUserDefinedFunction\u001b[39m = \u001b[33mUserDefinedFunction\u001b[39m(\n",
       "  ammonite.$sess.cmd2$Helper$$Lambda$3704/31504559@7686e168,\n",
       "  DoubleType,\n",
       "  \u001b[33mSome\u001b[39m(\u001b[33mList\u001b[39m(DoubleType))\n",
       ")\n",
       "\u001b[36mdfnan\u001b[39m: \u001b[32morg\u001b[39m.\u001b[32mapache\u001b[39m.\u001b[32mspark\u001b[39m.\u001b[32msql\u001b[39m.\u001b[32mpackage\u001b[39m.\u001b[32mDataFrame\u001b[39m = [id: bigint, uniform: double ... 1 more field]"
      ]
     },
     "execution_count": 3,
     "metadata": {},
     "output_type": "execute_result"
    }
   ],
   "source": [
    "val df = spark.range(0, 10).select(\"id\").\n",
    "    withColumn(\"uniform\", rand(10L)).withColumn(\"normal\", randn(10L))\n",
    "\n",
    "val halfTonNaN = udf[Double, Double] (x => if (x > 0.5) Double.NaN else x)\n",
    "\n",
    "val oneToNaN = udf[Double, Double] (x => if (x > 1.0) Double.NaN else x) \n",
    "\n",
    "val dfnan = df.withColumn(\"nanUniform\", halfTonNaN(df(\"uniform\"))).\n",
    "    withColumn(\"nanNormal\", oneToNaN(df(\"normal\"))).drop(\"uniform\"). \n",
    "    withColumnRenamed(\"nanUniform\", \"uniform\").drop(\"normal\"). \n",
    "    withColumnRenamed(\"nanNoemal\", \"normal\")\n",
    "\n",
    "dfnan.show()"
   ]
  },
  {
   "cell_type": "markdown",
   "metadata": {},
   "source": [
    "## DataFrame NA Functions - drop \n",
    "\n",
    "-\t`drop` is used for dropping rows containing `NaN` or `null` values according to a criteria \n",
    "-\tSeveral implementations available:\n",
    "  -\t`drop(minNonNulls, cols)`\n",
    "  -\t`drop(minNonNulls)`\n",
    "  -\t`drop(how,cols)`\n",
    "  - `drop(cols)`\n",
    "  -\t`drop(how)`\n",
    "  -\t`drop()`\n",
    "-\t`cols` is an `Array` or `Seq` of column names\n",
    "- how should be equal any or all"
   ]
  },
  {
   "cell_type": "code",
   "execution_count": 4,
   "metadata": {
    "attributes": {
     "classes": [
      "scala"
     ],
     "id": ""
    }
   },
   "outputs": [
    {
     "name": "stdout",
     "output_type": "stream",
     "text": [
      "+---+-------------------+--------------------+\n",
      "| id|            uniform|           nanNormal|\n",
      "+---+-------------------+--------------------+\n",
      "|  0|0.41371264720975787| -0.5877482396744728|\n",
      "|  2| 0.1982919638208397|  -0.256535324205377|\n",
      "|  3|0.12714181165849525|-0.31703264334668824|\n",
      "|  5|0.12030715258495939|  -0.506853671746243|\n",
      "|  7|0.44292918521277047| -0.1413699193557902|\n",
      "|  9|0.03650707717266999| -0.5021009082343131|\n",
      "+---+-------------------+--------------------+\n",
      "\n"
     ]
    }
   ],
   "source": [
    "// Dropping Rows With minNonNulls Argument \n",
    "dfnan.na.drop(minNonNulls = 3).show()"
   ]
  },
  {
   "cell_type": "code",
   "execution_count": 5,
   "metadata": {
    "attributes": {
     "classes": [
      "scala"
     ],
     "id": ""
    }
   },
   "outputs": [
    {
     "name": "stdout",
     "output_type": "stream",
     "text": [
      "+---+-------------------+--------------------+\n",
      "| id|            uniform|           nanNormal|\n",
      "+---+-------------------+--------------------+\n",
      "|  0|0.41371264720975787| -0.5877482396744728|\n",
      "|  2| 0.1982919638208397|  -0.256535324205377|\n",
      "|  3|0.12714181165849525|-0.31703264334668824|\n",
      "|  4|                NaN|  0.4977629425313746|\n",
      "|  5|0.12030715258495939|  -0.506853671746243|\n",
      "|  6|0.12131363910425985|                 NaN|\n",
      "|  7|0.44292918521277047| -0.1413699193557902|\n",
      "|  8|                NaN|  0.9657665088756656|\n",
      "|  9|0.03650707717266999| -0.5021009082343131|\n",
      "+---+-------------------+--------------------+\n",
      "\n"
     ]
    }
   ],
   "source": [
    "// Dropping Rows With How Argument \n",
    "dfnan.na.drop(\"all\", Array(\"uniform\", \"nanNormal\")).show()"
   ]
  },
  {
   "cell_type": "code",
   "execution_count": 6,
   "metadata": {
    "attributes": {
     "classes": [
      "scala"
     ],
     "id": ""
    }
   },
   "outputs": [
    {
     "name": "stdout",
     "output_type": "stream",
     "text": [
      "+---+-------------------+--------------------+\n",
      "| id|            uniform|           nanNormal|\n",
      "+---+-------------------+--------------------+\n",
      "|  0|0.41371264720975787| -0.5877482396744728|\n",
      "|  2| 0.1982919638208397|  -0.256535324205377|\n",
      "|  3|0.12714181165849525|-0.31703264334668824|\n",
      "|  5|0.12030715258495939|  -0.506853671746243|\n",
      "|  7|0.44292918521277047| -0.1413699193557902|\n",
      "|  9|0.03650707717266999| -0.5021009082343131|\n",
      "+---+-------------------+--------------------+\n",
      "\n"
     ]
    }
   ],
   "source": [
    "// Dropping Rows With How Argument \n",
    "dfnan.na.drop(\"any\", Array(\"uniform\", \"nanNormal\")).show()"
   ]
  },
  {
   "cell_type": "markdown",
   "metadata": {},
   "source": [
    "## DataFrame NA Functions - fill \n",
    "\n",
    "-\t`fill` is used for replacing NaN or null values according to a criteria\n",
    "-\tSeveral implementations available:\n",
    "  - `fill(valueMap)`\n",
    "  -\t`fill(value,cols)`\n",
    "  -\t`fill(value)`"
   ]
  },
  {
   "cell_type": "code",
   "execution_count": 7,
   "metadata": {
    "attributes": {
     "classes": [
      "scala"
     ],
     "id": ""
    }
   },
   "outputs": [
    {
     "name": "stdout",
     "output_type": "stream",
     "text": [
      "+---+-------------------+--------------------+\n",
      "| id|            uniform|           nanNormal|\n",
      "+---+-------------------+--------------------+\n",
      "|  0|0.41371264720975787| -0.5877482396744728|\n",
      "|  1|                0.0|                 0.0|\n",
      "|  2| 0.1982919638208397|  -0.256535324205377|\n",
      "|  3|0.12714181165849525|-0.31703264334668824|\n",
      "|  4|                0.0|  0.4977629425313746|\n",
      "|  5|0.12030715258495939|  -0.506853671746243|\n",
      "|  6|0.12131363910425985|                 0.0|\n",
      "|  7|0.44292918521277047| -0.1413699193557902|\n",
      "|  8|                0.0|  0.9657665088756656|\n",
      "|  9|0.03650707717266999| -0.5021009082343131|\n",
      "+---+-------------------+--------------------+\n",
      "\n",
      "+---+-------------------+--------------------+\n",
      "| id|            uniform|           nanNormal|\n",
      "+---+-------------------+--------------------+\n",
      "|  0|0.41371264720975787| -0.5877482396744728|\n",
      "|  1|0.20860049668053607|                 NaN|\n",
      "|  2| 0.1982919638208397|  -0.256535324205377|\n",
      "|  3|0.12714181165849525|-0.31703264334668824|\n",
      "|  4|0.20860049668053607|  0.4977629425313746|\n",
      "+---+-------------------+--------------------+\n",
      "only showing top 5 rows\n",
      "\n",
      "+---+-------------------+--------------------+\n",
      "| id|            uniform|           nanNormal|\n",
      "+---+-------------------+--------------------+\n",
      "|  0|0.41371264720975787| -0.5877482396744728|\n",
      "|  1| 0.2231483062765821|-0.38527345109381406|\n",
      "|  2| 0.1982919638208397|  -0.256535324205377|\n",
      "|  3|0.12714181165849525|-0.31703264334668824|\n",
      "|  4| 0.2231483062765821|  0.4977629425313746|\n",
      "+---+-------------------+--------------------+\n",
      "only showing top 5 rows\n",
      "\n"
     ]
    },
    {
     "data": {
      "text/plain": [
       "\u001b[36muniformMean\u001b[39m: \u001b[32mAny\u001b[39m = \u001b[32m0.20860049668053607\u001b[39m\n",
       "\u001b[36mdfCols\u001b[39m: \u001b[32mArray\u001b[39m[\u001b[32mString\u001b[39m] = \u001b[33mArray\u001b[39m(\u001b[32m\"uniform\"\u001b[39m, \u001b[32m\"nanNormal\"\u001b[39m)\n",
       "\u001b[36mdfMeans\u001b[39m: \u001b[32mSeq\u001b[39m[\u001b[32mAny\u001b[39m] = \u001b[33mWrappedArray\u001b[39m(\u001b[32m0.2231483062765821\u001b[39m, \u001b[32m-0.38527345109381406\u001b[39m)\n",
       "\u001b[36mmeansMap\u001b[39m: \u001b[32mMap\u001b[39m[\u001b[32mString\u001b[39m, \u001b[32mAny\u001b[39m] = \u001b[33mMap\u001b[39m(\n",
       "  \u001b[32m\"uniform\"\u001b[39m -> \u001b[32m0.2231483062765821\u001b[39m,\n",
       "  \u001b[32m\"nanNormal\"\u001b[39m -> \u001b[32m-0.38527345109381406\u001b[39m\n",
       ")"
      ]
     },
     "execution_count": 7,
     "metadata": {},
     "output_type": "execute_result"
    }
   ],
   "source": [
    "// Filling Missing Data By Column Type\n",
    "dfnan.na.fill(0.0).show()   \n",
    "\n",
    "// Filling Missing Data With Column Defaults \n",
    "val uniformMean = dfnan.filter(\"uniform <> 'NaN'\").groupBy().agg(mean(\"uniform\")).first()(0)\n",
    "\n",
    "dfnan.na.fill(Map(\"uniform\" -> uniformMean)).show(5)\n",
    "\n",
    "// Filling Missing Data With Column Defaults \n",
    "val dfCols = dfnan.columns.drop(1)\n",
    "\n",
    "val dfMeans = dfnan.na.drop().groupBy().\n",
    "agg(mean(\"uniform\"), mean(\"nanNormal\")).first().toSeq\n",
    "\n",
    "val meansMap = (dfCols.zip(dfMeans)).toMap\n",
    "dfnan.na.fill(meansMap).show(5)"
   ]
  },
  {
   "cell_type": "markdown",
   "metadata": {},
   "source": [
    "## DataFrame NA Functions - replace \n",
    "\n",
    "-\t`replace` is used for replacing values matching specified keys\n",
    "-\t`cols` argument may be a single column name or an array\n",
    "-\treplacement argument is a map: \n",
    "  -\t`key` is the value to be matched \n",
    "  -\t`value` is the replacement value itself"
   ]
  },
  {
   "cell_type": "code",
   "execution_count": 8,
   "metadata": {
    "attributes": {
     "classes": [
      "scala"
     ],
     "id": ""
    }
   },
   "outputs": [
    {
     "name": "stdout",
     "output_type": "stream",
     "text": [
      "+---+-------------------+--------------------+\n",
      "| id|            uniform|           nanNormal|\n",
      "+---+-------------------+--------------------+\n",
      "|  0|0.41371264720975787| -0.5877482396744728|\n",
      "|  1|                0.0|                 NaN|\n",
      "|  2| 0.1982919638208397|  -0.256535324205377|\n",
      "|  3|0.12714181165849525|-0.31703264334668824|\n",
      "|  4|                0.0|  0.4977629425313746|\n",
      "|  5|0.12030715258495939|  -0.506853671746243|\n",
      "|  6|0.12131363910425985|                 NaN|\n",
      "|  7|0.44292918521277047| -0.1413699193557902|\n",
      "|  8|                0.0|  0.9657665088756656|\n",
      "|  9|0.03650707717266999| -0.5021009082343131|\n",
      "+---+-------------------+--------------------+\n",
      "\n"
     ]
    }
   ],
   "source": [
    "//Replacing Values in a DataFrame \n",
    "\n",
    "dfnan.na.replace(\"uniform\", Map(Double.NaN -> 0.0)).show()"
   ]
  },
  {
   "cell_type": "markdown",
   "metadata": {},
   "source": [
    "## Duplicates\n",
    "\n",
    "-\t`dropDuplicates` is a `DataFrame` method \n",
    "-\tUsed to remove duplicate rows\n",
    "-\tMay specify a subset of columns to check for duplicates"
   ]
  },
  {
   "cell_type": "code",
   "execution_count": 10,
   "metadata": {
    "attributes": {
     "classes": [
      "scala"
     ],
     "id": ""
    }
   },
   "outputs": [
    {
     "name": "stdout",
     "output_type": "stream",
     "text": [
      "+---+-------------------+--------------------+\n",
      "| id|            uniform|              normal|\n",
      "+---+-------------------+--------------------+\n",
      "|  3|0.12714181165849525|-0.31703264334668824|\n",
      "|  0|0.41371264720975787| -0.5877482396744728|\n",
      "|  2| 0.1982919638208397|  -0.256535324205377|\n",
      "| 10|                1.0|                 1.0|\n",
      "|  6|0.12131363910425985|  1.4250903895905769|\n",
      "|  5|0.12030715258495939|  -0.506853671746243|\n",
      "| 11|                1.0|                 1.0|\n",
      "|  4| 0.7604318153406678|  0.4977629425313746|\n",
      "|  7|0.44292918521277047| -0.1413699193557902|\n",
      "|  1| 0.7311719281896606|  1.5746327759749246|\n",
      "|  9|0.03650707717266999| -0.5021009082343131|\n",
      "|  8| 0.8898784253886249|  0.9657665088756656|\n",
      "+---+-------------------+--------------------+\n",
      "\n"
     ]
    },
    {
     "data": {
      "text/plain": [
       "\u001b[36mdfDuplicates\u001b[39m: \u001b[32morg\u001b[39m.\u001b[32mapache\u001b[39m.\u001b[32mspark\u001b[39m.\u001b[32msql\u001b[39m.\u001b[32mDataset\u001b[39m[\u001b[32morg\u001b[39m.\u001b[32mapache\u001b[39m.\u001b[32mspark\u001b[39m.\u001b[32msql\u001b[39m.\u001b[32mRow\u001b[39m] = [id: bigint, uniform: double ... 1 more field]\n",
       "\u001b[36mdfCols\u001b[39m: \u001b[32mArray\u001b[39m[\u001b[32mString\u001b[39m] = \u001b[33mArray\u001b[39m(\u001b[32m\"id\"\u001b[39m, \u001b[32m\"uniform\"\u001b[39m, \u001b[32m\"normal\"\u001b[39m)"
      ]
     },
     "execution_count": 10,
     "metadata": {},
     "output_type": "execute_result"
    }
   ],
   "source": [
    "// Dropping Duplicate Rows \n",
    "val dfDuplicates = df.unionAll(sc.parallelize(Seq((10,1,1),(11,1,1))).toDF())\n",
    "\n",
    "// Dropping Duplicate Rows \n",
    "val dfCols = dfnan.withColumnRenamed(\"nanNormal\", \"normal\").columns\n",
    "\n",
    "dfDuplicates.dropDuplicates(dfCols).show()"
   ]
  },
  {
   "cell_type": "code",
   "execution_count": 11,
   "metadata": {},
   "outputs": [],
   "source": [
    "sc.stop()"
   ]
  },
  {
   "cell_type": "markdown",
   "metadata": {},
   "source": [
    "## Lesson Summary\n",
    "\n",
    "-\tHaving completed this lesson, you should be able to: \n",
    "- Drop records according to different criteria\n",
    "-\tFill missing data according to different criteria\n",
    "-\tDrop duplicate records\n",
    "\n",
    "### About the Authors\n",
    "\n",
    "[Petro Verkhogliad](https://www.linkedin.com/in/vpetro) is Consulting Manager at Lightbend. He holds a Masters degree in Computer Science with specialization in Intelligent Systems. He is passionate about functional programming and applications of AI."
   ]
  }
 ],
 "metadata": {
  "kernelspec": {
   "display_name": "Scala 2.12.8",
   "language": "scala",
   "name": "scala_2_12_8"
  },
  "language_info": {
   "codemirror_mode": "text/x-scala",
   "file_extension": ".scala",
   "mimetype": "text/x-scala",
   "name": "scala",
   "nbconvert_exporter": "script",
   "version": "2.12.8"
  }
 },
 "nbformat": 4,
 "nbformat_minor": 2
}
