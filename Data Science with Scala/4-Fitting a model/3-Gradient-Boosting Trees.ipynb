{
 "cells": [
  {
   "cell_type": "markdown",
   "metadata": {},
   "source": [
    "<a href=\"https://cocl.us/Data_Science_with_Scalla_top\"><img src = \"https://s3-api.us-geo.objectstorage.softlayer.net/cf-courses-data/CognitiveClass/SC0103EN/adds/Data_Science_with_Scalla_notebook_top.png\" width = 750, align = \"center\"></a>\n",
    " <br/>\n",
    "<a><img src=\"https://ibm.box.com/shared/static/ugcqz6ohbvff804xp84y4kqnvvk3bq1g.png\" width=\"200\" align=\"center\"></a>\"\n",
    "\n",
    "# 3.4.3 Gradient-Boosting Trees\n",
    "\n",
    "Welcome to Gradient-Boosting Trees (GBTs)\n",
    "\n",
    "After completing this set of lessons about Predicting Grant Applications, you should be able to:\n",
    "\n",
    "* Understand how to fit together the functions available in Spark's machine learning libraries to solve real problems\n",
    "* Use a spark cluster to fit models in a fraction of the time\n",
    "* Perform classification and regression with Gradient-Boosted Trees\n",
    "* Understand and use Gradient-Boosted Trees parameters\n",
    "\n",
    "## Gradient-Boosting Trees\n",
    "\n",
    "* Like Random Forests, they are ensembles of decision trees\n",
    "* Iteratively trained to minimize a loss function\n",
    "* Supports binary classification\n",
    "* Supports regression\n",
    "* Supports continuous and categorical features\n",
    "\n",
    "The Pipelines API for gradient boosted trees supports regression and binary classification it also supports continuous and categorical features.\n",
    "This is a quick description of the basic algorithm of Gradient-Boosted Trees:\n",
    "* Iteratively trains a sequence of decision trees\n",
    "* On each iteration it uses the current ensemble to make label predictions and then it compares these to true labels\n",
    "* Next it re-labels the dataset to put more emphasis on instances with poor predictions, according to a given loss function\n",
    "* With each iteration it reduces the loss function, thus correcting for previous mistakes\n",
    "* Supported loss functions:\n",
    "  * `classification`: Log Loss (twice binomial negative log likelihood)\n",
    "  * `regression`: Squared Error (L2 loss, default) and Absolute Error (L1 loss, more robust to outliers)\n",
    "\n",
    "## Gradient-Boosted Trees Parameters\n",
    "\n",
    "* `loss`: loss function (Log Loss, for classification, Squared and Absolute errors, for regression)\n",
    "* `numIterations`: number of trees in the ensemble\n",
    "   * each iteration produces one tree\n",
    "    * if it increases:\n",
    "        * model gets more expressive, improving training data accuracy\n",
    "        * test-time accuracy may suffer (if too large)\n",
    " * `learningRate`: should NOT need to be tuned\n",
    "    * if behaviour seems unstable, decreasing it may improve stability\n",
    "\n",
    "\n",
    "\n",
    "## Validation While Training\n",
    "\n",
    "* Gradient-Boosted Trees can overfit when trained with more trees\n",
    "* The method `runWithValidation` allows validation while training\n",
    "  * takes a pair of RDDs: training and validation datasets\n",
    "* Training is stopped when validation error improvement is less than the tolerance specified as `validationTol`in `BoostingStrategy`\n",
    "  * validation error decreases initially and later increases\n",
    "  * there might be cases in which the validation error does not change monotonically\n",
    "    * set a large enough negative tolerance\n",
    "    * examine validation curve using `evaluateEachIteration`, which gives the error or loss per iteration\n",
    "    * tune the number of iterations\n",
    "\n",
    "\n",
    "\n",
    "## Inputs & Outputs\n",
    "\n",
    "**TODO table screenshot**\n",
    "\n",
    "Here we have inputs and outputs. The inputs taken by Gradient-Boosted Trees in the Pipelines API are just the same as the inputs taken by Decision Trees, that is, the label and features columns. However, Gradient-Boosted Trees output only one column, the prediction itself.\n",
    "\n",
    "\n",
    "\n",
    "## Continuing From Previous Example I\n",
    "\n",
    "You need to run the following script from previous lessons to be able to run this example. If you haven't downloaded the data set from the previous lesson then there is a link in the script to download it to your temporary folder and load it."
   ]
  },
  {
   "cell_type": "code",
   "execution_count": 1,
   "metadata": {},
   "outputs": [
    {
     "name": "stderr",
     "output_type": "stream",
     "text": [
      "Using Spark's default log4j profile: org/apache/spark/log4j-defaults.properties\n"
     ]
    },
    {
     "data": {
      "text/plain": [
       "\u001b[32mimport \u001b[39m\u001b[36m$ivy.$                                   // Or use any other 2.x version here\n",
       "\u001b[39m\n",
       "\u001b[32mimport \u001b[39m\u001b[36m$ivy.$                                     // Or use any other 2.x version here\n",
       "\u001b[39m\n",
       "\u001b[32mimport \u001b[39m\u001b[36m org.apache.spark.SparkContext\n",
       "\u001b[39m\n",
       "\u001b[32mimport \u001b[39m\u001b[36morg.apache.log4j.{Level, Logger}\n",
       "\u001b[39m\n",
       "\u001b[36msc\u001b[39m: \u001b[32mSparkContext\u001b[39m = org.apache.spark.SparkContext@36438158"
      ]
     },
     "execution_count": 1,
     "metadata": {},
     "output_type": "execute_result"
    }
   ],
   "source": [
    "import $ivy.`org.apache.spark::spark-sql:2.4.0` // Or use any other 2.x version here\n",
    "import $ivy.`org.apache.spark::spark-mllib:2.4.0` // Or use any other 2.x version here\n",
    "import  org.apache.spark.SparkContext\n",
    "import org.apache.log4j.{Level, Logger}\n",
    "Logger.getLogger(\"org\").setLevel(Level.OFF)\n",
    "val sc= new SparkContext(\"local[*]\",\"Gradient Boosting Trees\")"
   ]
  },
  {
   "cell_type": "code",
   "execution_count": 2,
   "metadata": {
    "attributes": {
     "classes": [
      "scala"
     ],
     "id": ""
    }
   },
   "outputs": [
    {
     "data": {
      "text/plain": [
       "\u001b[32mimport \u001b[39m\u001b[36morg.apache.spark.sql.SparkSession\n",
       "\u001b[39m\n",
       "\u001b[36mspark\u001b[39m: \u001b[32mSparkSession\u001b[39m = org.apache.spark.sql.SparkSession@7a12ebb3\n",
       "\u001b[32mimport \u001b[39m\u001b[36mspark.implicits._\n",
       "\u001b[39m\n",
       "\u001b[32mimport \u001b[39m\u001b[36morg.apache.spark.sql.functions._\n",
       "\n",
       "\u001b[39m\n",
       "\u001b[32mimport \u001b[39m\u001b[36morg.apache.spark.mllib.util.MLUtils.{\n",
       "  convertVectorColumnsFromML => fromML,\n",
       "  convertVectorColumnsToML => toML\n",
       "}\u001b[39m"
      ]
     },
     "execution_count": 2,
     "metadata": {},
     "output_type": "execute_result"
    }
   ],
   "source": [
    "import org.apache.spark.sql.SparkSession\n",
    "val spark = SparkSession.builder().getOrCreate()\n",
    "import spark.implicits._\n",
    "import org.apache.spark.sql.functions._\n",
    "\n",
    "import org.apache.spark.mllib.util.MLUtils.{\n",
    "  convertVectorColumnsFromML => fromML,\n",
    "  convertVectorColumnsToML => toML\n",
    "}"
   ]
  },
  {
   "cell_type": "code",
   "execution_count": 3,
   "metadata": {
    "attributes": {
     "classes": [
      "scala"
     ],
     "id": ""
    }
   },
   "outputs": [
    {
     "data": {
      "text/plain": [
       "\u001b[32mimport \u001b[39m\u001b[36morg.apache.spark.mllib.util.MLUtils\n",
       " \n",
       "\u001b[39m\n",
       "\u001b[36mdata\u001b[39m: \u001b[32morg\u001b[39m.\u001b[32mapache\u001b[39m.\u001b[32mspark\u001b[39m.\u001b[32msql\u001b[39m.\u001b[32mDataset\u001b[39m[\u001b[32morg\u001b[39m.\u001b[32mapache\u001b[39m.\u001b[32mspark\u001b[39m.\u001b[32msql\u001b[39m.\u001b[32mRow\u001b[39m] = [label: double, features: vector]\n",
       "\u001b[36msplitData\u001b[39m: \u001b[32mArray\u001b[39m[\u001b[32morg\u001b[39m.\u001b[32mapache\u001b[39m.\u001b[32mspark\u001b[39m.\u001b[32msql\u001b[39m.\u001b[32mDataset\u001b[39m[\u001b[32morg\u001b[39m.\u001b[32mapache\u001b[39m.\u001b[32mspark\u001b[39m.\u001b[32msql\u001b[39m.\u001b[32mRow\u001b[39m]] = \u001b[33mArray\u001b[39m(\n",
       "  [label: double, features: vector],\n",
       "  [label: double, features: vector]\n",
       ")\n",
       "\u001b[36mtrainingData\u001b[39m: \u001b[32morg\u001b[39m.\u001b[32mapache\u001b[39m.\u001b[32mspark\u001b[39m.\u001b[32msql\u001b[39m.\u001b[32mDataset\u001b[39m[\u001b[32morg\u001b[39m.\u001b[32mapache\u001b[39m.\u001b[32mspark\u001b[39m.\u001b[32msql\u001b[39m.\u001b[32mRow\u001b[39m] = [label: double, features: vector]\n",
       "\u001b[36mtestData\u001b[39m: \u001b[32morg\u001b[39m.\u001b[32mapache\u001b[39m.\u001b[32mspark\u001b[39m.\u001b[32msql\u001b[39m.\u001b[32mDataset\u001b[39m[\u001b[32morg\u001b[39m.\u001b[32mapache\u001b[39m.\u001b[32mspark\u001b[39m.\u001b[32msql\u001b[39m.\u001b[32mRow\u001b[39m] = [label: double, features: vector]"
      ]
     },
     "execution_count": 3,
     "metadata": {},
     "output_type": "execute_result"
    }
   ],
   "source": [
    "import org.apache.spark.mllib.util.MLUtils\n",
    " \n",
    "val data = toML(MLUtils.loadLibSVMFile(sc, \"data/sample_libsvm_data.txt\").toDF())\n",
    "\n",
    "val splitData = data.randomSplit(Array(0.7, 0.3))\n",
    "val trainingData = toML(splitData(0))\n",
    "val testData = toML(splitData(1))"
   ]
  },
  {
   "cell_type": "markdown",
   "metadata": {
    "attributes": {
     "classes": [
      "scala"
     ],
     "id": ""
    }
   },
   "source": [
    "training Data"
   ]
  },
  {
   "cell_type": "code",
   "execution_count": 4,
   "metadata": {
    "attributes": {
     "classes": [
      "scala"
     ],
     "id": ""
    }
   },
   "outputs": [
    {
     "name": "stdout",
     "output_type": "stream",
     "text": [
      "+-----+--------------------+\n",
      "|label|            features|\n",
      "+-----+--------------------+\n",
      "|  0.0|(692,[98,99,100,1...|\n",
      "|  0.0|(692,[122,123,124...|\n",
      "|  0.0|(692,[124,125,126...|\n",
      "|  0.0|(692,[126,127,128...|\n",
      "|  0.0|(692,[126,127,128...|\n",
      "+-----+--------------------+\n",
      "only showing top 5 rows\n",
      "\n"
     ]
    }
   ],
   "source": [
    "trainingData.show(5)"
   ]
  },
  {
   "cell_type": "markdown",
   "metadata": {
    "attributes": {
     "classes": [
      "scala"
     ],
     "id": ""
    }
   },
   "source": [
    "test Data"
   ]
  },
  {
   "cell_type": "code",
   "execution_count": 5,
   "metadata": {
    "attributes": {
     "classes": [
      "scala"
     ],
     "id": ""
    }
   },
   "outputs": [
    {
     "name": "stdout",
     "output_type": "stream",
     "text": [
      "+-----+--------------------+\n",
      "|label|            features|\n",
      "+-----+--------------------+\n",
      "|  0.0|(692,[122,123,148...|\n",
      "|  0.0|(692,[124,125,126...|\n",
      "|  0.0|(692,[129,130,131...|\n",
      "|  0.0|(692,[151,152,153...|\n",
      "|  1.0|(692,[97,98,99,12...|\n",
      "+-----+--------------------+\n",
      "only showing top 5 rows\n",
      "\n"
     ]
    }
   ],
   "source": [
    "testData.show(5)"
   ]
  },
  {
   "cell_type": "markdown",
   "metadata": {},
   "source": [
    "## Continuing From Previous Example II\n",
    "\n",
    "In the previous lesson we also created two preprocessing estimators, and one post-processing transformer. We will use the same estimators and transformers in our Gradient-Boosting Trees Pipeline. For a GBT classifier, first create a new instance of it and set its label and features columns just like on the Random Forest course."
   ]
  },
  {
   "cell_type": "code",
   "execution_count": 6,
   "metadata": {
    "attributes": {
     "classes": [
      "scala"
     ],
     "id": ""
    }
   },
   "outputs": [
    {
     "name": "stderr",
     "output_type": "stream",
     "text": [
      "19/12/19 13:35:45 WARN BLAS: Failed to load implementation from: com.github.fommil.netlib.NativeSystemBLAS\n",
      "19/12/19 13:35:45 WARN BLAS: Failed to load implementation from: com.github.fommil.netlib.NativeRefBLAS\n"
     ]
    },
    {
     "name": "stdout",
     "output_type": "stream",
     "text": [
      "+--------------+-----+--------------------+\n",
      "|predictedLabel|label|            features|\n",
      "+--------------+-----+--------------------+\n",
      "|           0.0|  0.0|(692,[122,123,148...|\n",
      "|           0.0|  0.0|(692,[124,125,126...|\n",
      "|           0.0|  0.0|(692,[129,130,131...|\n",
      "|           0.0|  0.0|(692,[151,152,153...|\n",
      "|           1.0|  1.0|(692,[97,98,99,12...|\n",
      "+--------------+-----+--------------------+\n",
      "only showing top 5 rows\n",
      "\n",
      "Test Error = 0.0\n",
      "Learned classification GBT model:\n",
      "GBTClassificationModel (uid=gbtc_33d3c6075e52) with 10 trees\n",
      "  Tree 0 (weight 1.0):\n",
      "    If (feature 434 <= 70.5)\n",
      "     If (feature 99 in {2.0})\n",
      "      Predict: -1.0\n",
      "     Else (feature 99 not in {2.0})\n",
      "      Predict: 1.0\n",
      "    Else (feature 434 > 70.5)\n",
      "     Predict: -1.0\n",
      "  Tree 1 (weight 0.1):\n",
      "    If (feature 462 <= 63.0)\n",
      "     If (feature 100 <= 193.5)\n",
      "      If (feature 604 <= 178.5)\n",
      "       If (feature 155 <= 1.0)\n",
      "        Predict: 0.4768116880884702\n",
      "       Else (feature 155 > 1.0)\n",
      "        Predict: 0.4768116880884703\n",
      "      Else (feature 604 > 178.5)\n",
      "       If (feature 263 <= 206.0)\n",
      "        Predict: 0.4768116880884702\n",
      "       Else (feature 263 > 206.0)\n",
      "        Predict: 0.47681168808847035\n",
      "     Else (feature 100 > 193.5)\n",
      "      Predict: -0.4768116880884694\n",
      "    Else (feature 462 > 63.0)\n",
      "     If (feature 298 <= 251.5)\n",
      "      If (feature 354 <= 20.0)\n",
      "       If (feature 323 <= 207.0)\n",
      "        If (feature 238 <= 61.0)\n",
      "         Predict: -0.4768116880884702\n",
      "        Else (feature 238 > 61.0)\n",
      "         Predict: -0.4768116880884703\n",
      "       Else (feature 323 > 207.0)\n",
      "        Predict: -0.4768116880884703\n",
      "      Else (feature 354 > 20.0)\n",
      "       Predict: -0.4768116880884712\n",
      "     Else (feature 298 > 251.5)\n",
      "      Predict: -0.4768116880884712\n",
      "  Tree 2 (weight 0.1):\n",
      "    If (feature 434 <= 70.5)\n",
      "     If (feature 99 in {2.0})\n",
      "      Predict: -0.4381935810427206\n",
      "     Else (feature 99 not in {2.0})\n",
      "      Predict: 0.4381935810427206\n",
      "    Else (feature 434 > 70.5)\n",
      "     If (feature 299 <= 88.5)\n",
      "      Predict: -0.4381935810427206\n",
      "     Else (feature 299 > 88.5)\n",
      "      Predict: -0.43819358104272155\n",
      "  Tree 3 (weight 0.1):\n",
      "    If (feature 434 <= 70.5)\n",
      "     If (feature 323 <= 251.5)\n",
      "      If (feature 629 <= 218.0)\n",
      "       If (feature 183 <= 7.0)\n",
      "        Predict: 0.4051496802845983\n",
      "       Else (feature 183 > 7.0)\n",
      "        If (feature 155 <= 1.0)\n",
      "         Predict: 0.4051496802845983\n",
      "        Else (feature 155 > 1.0)\n",
      "         Predict: 0.4051496802845984\n",
      "      Else (feature 629 > 218.0)\n",
      "       Predict: 0.4051496802845983\n",
      "     Else (feature 323 > 251.5)\n",
      "      Predict: -0.4051496802845982\n",
      "    Else (feature 434 > 70.5)\n",
      "     If (feature 129 <= 248.0)\n",
      "      If (feature 215 <= 40.0)\n",
      "       Predict: -0.40514968028459825\n",
      "      Else (feature 215 > 40.0)\n",
      "       Predict: -0.4051496802845982\n",
      "     Else (feature 129 > 248.0)\n",
      "      Predict: -0.4051496802845991\n",
      "  Tree 4 (weight 0.1):\n",
      "    If (feature 490 <= 27.5)\n",
      "     If (feature 100 <= 193.5)\n",
      "      If (feature 289 <= 28.0)\n",
      "       If (feature 154 <= 1.0)\n",
      "        Predict: 0.3765841318352991\n",
      "       Else (feature 154 > 1.0)\n",
      "        If (feature 239 <= 9.0)\n",
      "         Predict: 0.3765841318352991\n",
      "        Else (feature 239 > 9.0)\n",
      "         Predict: 0.37658413183529915\n",
      "      Else (feature 289 > 28.0)\n",
      "       Predict: 0.3765841318352994\n",
      "     Else (feature 100 > 193.5)\n",
      "      Predict: -0.3765841318352994\n",
      "    Else (feature 490 > 27.5)\n",
      "     Predict: -0.37658413183529915\n",
      "  Tree 5 (weight 0.1):\n",
      "    If (feature 490 <= 27.5)\n",
      "     If (feature 568 <= 253.5)\n",
      "      Predict: 0.35166478958101005\n",
      "     Else (feature 568 > 253.5)\n",
      "      Predict: -0.3516647895810099\n",
      "    Else (feature 490 > 27.5)\n",
      "     If (feature 323 <= 112.5)\n",
      "      If (feature 237 <= 40.0)\n",
      "       Predict: -0.35166478958101005\n",
      "      Else (feature 237 > 40.0)\n",
      "       Predict: -0.3516647895810101\n",
      "     Else (feature 323 > 112.5)\n",
      "      If (feature 490 <= 174.0)\n",
      "       If (feature 268 <= 9.5)\n",
      "        Predict: -0.35166478958101005\n",
      "       Else (feature 268 > 9.5)\n",
      "        If (feature 269 <= 2.5)\n",
      "         Predict: -0.35166478958101005\n",
      "        Else (feature 269 > 2.5)\n",
      "         Predict: -0.3516647895810101\n",
      "      Else (feature 490 > 174.0)\n",
      "       Predict: -0.3516647895810101\n",
      "  Tree 6 (weight 0.1):\n",
      "    If (feature 490 <= 27.5)\n",
      "     If (feature 548 <= 253.5)\n",
      "      If (feature 154 <= 27.5)\n",
      "       Predict: 0.32974984655529926\n",
      "      Else (feature 154 > 27.5)\n",
      "       Predict: 0.3297498465552994\n",
      "     Else (feature 548 > 253.5)\n",
      "      Predict: -0.32974984655530015\n",
      "    Else (feature 490 > 27.5)\n",
      "     Predict: -0.32974984655529915\n",
      "  Tree 7 (weight 0.1):\n",
      "    If (feature 434 <= 70.5)\n",
      "     If (feature 344 <= 253.5)\n",
      "      If (feature 211 <= 250.5)\n",
      "       If (feature 156 <= 22.0)\n",
      "        Predict: 0.3103372455197956\n",
      "       Else (feature 156 > 22.0)\n",
      "        Predict: 0.3103372455197957\n",
      "      Else (feature 211 > 250.5)\n",
      "       Predict: 0.31033724551979575\n",
      "     Else (feature 344 > 253.5)\n",
      "      Predict: -0.31033724551979525\n",
      "    Else (feature 434 > 70.5)\n",
      "     If (feature 296 <= 253.5)\n",
      "      If (feature 433 <= 219.0)\n",
      "       If (feature 153 <= 1.5)\n",
      "        Predict: -0.3103372455197956\n",
      "       Else (feature 153 > 1.5)\n",
      "        Predict: -0.3103372455197957\n",
      "      Else (feature 433 > 219.0)\n",
      "       Predict: -0.31033724551979563\n",
      "     Else (feature 296 > 253.5)\n",
      "      Predict: -0.31033724551979586\n",
      "  Tree 8 (weight 0.1):\n",
      "    If (feature 462 <= 63.0)\n",
      "     If (feature 549 <= 253.5)\n",
      "      Predict: 0.2930291649125433\n",
      "     Else (feature 549 > 253.5)\n",
      "      Predict: -0.29302916491254294\n",
      "    Else (feature 462 > 63.0)\n",
      "     If (feature 350 <= 230.5)\n",
      "      If (feature 214 <= 246.0)\n",
      "       Predict: -0.2930291649125433\n",
      "      Else (feature 214 > 246.0)\n",
      "       Predict: -0.2930291649125434\n",
      "     Else (feature 350 > 230.5)\n",
      "      Predict: -0.29302916491254344\n",
      "  Tree 9 (weight 0.1):\n",
      "    If (feature 462 <= 63.0)\n",
      "     If (feature 239 <= 253.5)\n",
      "      If (feature 603 <= 2.5)\n",
      "       If (feature 150 <= 11.5)\n",
      "        Predict: 0.27750666438358246\n",
      "       Else (feature 150 > 11.5)\n",
      "        Predict: 0.2775066643835825\n",
      "      Else (feature 603 > 2.5)\n",
      "       Predict: 0.2775066643835825\n",
      "     Else (feature 239 > 253.5)\n",
      "      Predict: -0.27750666438358174\n",
      "    Else (feature 462 > 63.0)\n",
      "     If (feature 239 <= 46.0)\n",
      "      Predict: -0.2775066643835825\n",
      "     Else (feature 239 > 46.0)\n",
      "      Predict: -0.27750666438358257\n",
      "\n"
     ]
    },
    {
     "data": {
      "text/plain": [
       "\u001b[32mimport \u001b[39m\u001b[36morg.apache.spark.ml.Pipeline\n",
       "\u001b[39m\n",
       "\u001b[32mimport \u001b[39m\u001b[36morg.apache.spark.ml.classification.{GBTClassificationModel, GBTClassifier}\n",
       "\u001b[39m\n",
       "\u001b[32mimport \u001b[39m\u001b[36morg.apache.spark.ml.feature.{StringIndexer, IndexToString, VectorIndexer}\n",
       "\u001b[39m\n",
       "\u001b[32mimport \u001b[39m\u001b[36morg.apache.spark.ml.evaluation.MulticlassClassificationEvaluator\n",
       "\n",
       "\n",
       "\u001b[39m\n",
       "\u001b[32mimport \u001b[39m\u001b[36morg.apache.spark.mllib.util.MLUtils.{\n",
       "  convertVectorColumnsFromML => fromML,\n",
       "  convertVectorColumnsToML => toML\n",
       "}\n",
       "\n",
       "\u001b[39m\n",
       "\u001b[36mlabelIndexer\u001b[39m: \u001b[32morg\u001b[39m.\u001b[32mapache\u001b[39m.\u001b[32mspark\u001b[39m.\u001b[32mml\u001b[39m.\u001b[32mfeature\u001b[39m.\u001b[32mStringIndexerModel\u001b[39m = strIdx_8f1e1739278b\n",
       "\u001b[36mfeatureIndexer\u001b[39m: \u001b[32morg\u001b[39m.\u001b[32mapache\u001b[39m.\u001b[32mspark\u001b[39m.\u001b[32mml\u001b[39m.\u001b[32mfeature\u001b[39m.\u001b[32mVectorIndexerModel\u001b[39m = vecIdx_75cb8b8ef1fe\n",
       "\u001b[36mlabelConverter\u001b[39m: \u001b[32mIndexToString\u001b[39m = idxToStr_c573e40589db\n",
       "\u001b[36mgbt\u001b[39m: \u001b[32mGBTClassifier\u001b[39m = gbtc_33d3c6075e52\n",
       "\u001b[36mpipeline\u001b[39m: \u001b[32mPipeline\u001b[39m = pipeline_ae8ce1d25c8e\n",
       "\u001b[36mmodel\u001b[39m: \u001b[32morg\u001b[39m.\u001b[32mapache\u001b[39m.\u001b[32mspark\u001b[39m.\u001b[32mml\u001b[39m.\u001b[32mPipelineModel\u001b[39m = pipeline_ae8ce1d25c8e\n",
       "\u001b[36mpredictions\u001b[39m: \u001b[32morg\u001b[39m.\u001b[32mapache\u001b[39m.\u001b[32mspark\u001b[39m.\u001b[32msql\u001b[39m.\u001b[32mpackage\u001b[39m.\u001b[32mDataFrame\u001b[39m = [label: double, features: vector ... 6 more fields]\n",
       "\u001b[36mevaluator\u001b[39m: \u001b[32mMulticlassClassificationEvaluator\u001b[39m = mcEval_8a60521d9c77\n",
       "\u001b[36maccuracy\u001b[39m: \u001b[32mDouble\u001b[39m = \u001b[32m1.0\u001b[39m\n",
       "\u001b[36mgbtModel\u001b[39m: \u001b[32mGBTClassificationModel\u001b[39m = GBTClassificationModel (uid=gbtc_33d3c6075e52) with 10 trees"
      ]
     },
     "execution_count": 6,
     "metadata": {},
     "output_type": "execute_result"
    }
   ],
   "source": [
    "import org.apache.spark.ml.Pipeline\n",
    "import org.apache.spark.ml.classification.{GBTClassificationModel, GBTClassifier}\n",
    "import org.apache.spark.ml.feature.{StringIndexer, IndexToString, VectorIndexer}\n",
    "import org.apache.spark.ml.evaluation.MulticlassClassificationEvaluator\n",
    "\n",
    "\n",
    "import org.apache.spark.mllib.util.MLUtils.{\n",
    "  convertVectorColumnsFromML => fromML,\n",
    "  convertVectorColumnsToML => toML\n",
    "}\n",
    "\n",
    "val labelIndexer = new StringIndexer()\n",
    "  .setInputCol(\"label\")\n",
    "  .setOutputCol(\"indexedLabel\")\n",
    "  .fit(data)\n",
    "\n",
    "val featureIndexer = new VectorIndexer()\n",
    "  .setInputCol(\"features\")\n",
    "  .setOutputCol(\"indexedFeatures\")\n",
    "  .setMaxCategories(4)\n",
    "  .fit(data)\n",
    "\n",
    "val labelConverter = new IndexToString()\n",
    "  .setInputCol(\"prediction\")\n",
    "  .setOutputCol(\"predictedLabel\")\n",
    "  .setLabels(labelIndexer.labels)\n",
    "  \n",
    "val gbt = new GBTClassifier()\n",
    "  .setLabelCol(\"indexedLabel\")\n",
    "  .setFeaturesCol(\"indexedFeatures\")\n",
    "  .setMaxIter(10)\n",
    "\n",
    "val pipeline = new Pipeline()\n",
    "  .setStages(Array(labelIndexer, featureIndexer, gbt, labelConverter))\n",
    "\n",
    "// Train model. This also runs the indexers.\n",
    "val model = pipeline.fit(trainingData)\n",
    "\n",
    "// Make predictions.\n",
    "val predictions = model.transform(testData)\n",
    "\n",
    "// Select example rows to display.\n",
    "predictions.select(\"predictedLabel\", \"label\", \"features\").show(5)\n",
    "\n",
    "// Select (prediction, true label) and compute test error.\n",
    "val evaluator = new MulticlassClassificationEvaluator()\n",
    "  .setLabelCol(\"indexedLabel\")\n",
    "  .setPredictionCol(\"prediction\")\n",
    "  .setMetricName(\"accuracy\")\n",
    "val accuracy = evaluator.evaluate(predictions)\n",
    "println(\"Test Error = \" + (1.0 - accuracy))\n",
    "\n",
    "val gbtModel = model.stages(2).asInstanceOf[GBTClassificationModel]\n",
    "println(\"Learned classification GBT model:\\n\" + gbtModel.toDebugString)"
   ]
  },
  {
   "cell_type": "markdown",
   "metadata": {},
   "source": [
    "## RBT Regression\n",
    "\n",
    "Having completed an example of classification with Gradient-Boosted Trees, it is time for an example of regression. Once again, I will build upon previous regression examples. The Pipelines for regression had only two stages, and I replace the second one with my current `regressor`, a `GBTRegressor`.\n",
    "\n",
    "We use the same data already split into a training and test. Everything else is the same as before, calling the `fit` method to get a model and calling the `transform` method to make predictions:"
   ]
  },
  {
   "cell_type": "code",
   "execution_count": 7,
   "metadata": {
    "attributes": {
     "classes": [
      "scala"
     ],
     "id": ""
    }
   },
   "outputs": [
    {
     "data": {
      "text/plain": [
       "\u001b[32mimport \u001b[39m\u001b[36morg.apache.spark.ml.regression.GBTRegressor\n",
       "\u001b[39m\n",
       "\u001b[32mimport \u001b[39m\u001b[36morg.apache.spark.ml.regression.GBTRegressionModel\n",
       "\n",
       "\u001b[39m\n",
       "\u001b[36mgbtR\u001b[39m: \u001b[32mGBTRegressor\u001b[39m = gbtr_b5673f63b4cc\n",
       "\u001b[36mpipelineGBTR\u001b[39m: \u001b[32mPipeline\u001b[39m = pipeline_032412566925\n",
       "\u001b[36mmodelGBTR\u001b[39m: \u001b[32morg\u001b[39m.\u001b[32mapache\u001b[39m.\u001b[32mspark\u001b[39m.\u001b[32mml\u001b[39m.\u001b[32mPipelineModel\u001b[39m = pipeline_032412566925"
      ]
     },
     "execution_count": 7,
     "metadata": {},
     "output_type": "execute_result"
    }
   ],
   "source": [
    "import org.apache.spark.ml.regression.GBTRegressor\n",
    "import org.apache.spark.ml.regression.GBTRegressionModel\n",
    "\n",
    "val gbtR = new GBTRegressor().setLabelCol(\"label\").setFeaturesCol(\"indexedFeatures\").setMaxIter(10)\n",
    "\n",
    "val pipelineGBTR = new Pipeline().setStages(Array(featureIndexer, gbtR))\n",
    "\n",
    "val modelGBTR = pipelineGBTR.fit(trainingData)"
   ]
  },
  {
   "cell_type": "markdown",
   "metadata": {},
   "source": [
    "The predictions and then returned in the `predictionsGBTR` `DataFrame`:"
   ]
  },
  {
   "cell_type": "code",
   "execution_count": 8,
   "metadata": {
    "attributes": {
     "classes": [
      "scala"
     ],
     "id": ""
    }
   },
   "outputs": [
    {
     "name": "stdout",
     "output_type": "stream",
     "text": [
      "+-----+--------------------+--------------------+----------+\n",
      "|label|            features|     indexedFeatures|prediction|\n",
      "+-----+--------------------+--------------------+----------+\n",
      "|  0.0|(692,[122,123,148...|(692,[122,123,148...|       0.0|\n",
      "|  0.0|(692,[124,125,126...|(692,[124,125,126...|       0.0|\n",
      "|  0.0|(692,[129,130,131...|(692,[129,130,131...|       0.0|\n",
      "|  0.0|(692,[151,152,153...|(692,[151,152,153...|       0.0|\n",
      "|  1.0|(692,[97,98,99,12...|(692,[97,98,99,12...|       1.0|\n",
      "|  1.0|(692,[123,124,125...|(692,[123,124,125...|       1.0|\n",
      "|  1.0|(692,[125,126,153...|(692,[125,126,153...|       1.0|\n",
      "|  1.0|(692,[126,127,128...|(692,[126,127,128...|       1.0|\n",
      "|  1.0|(692,[127,128,155...|(692,[127,128,155...|       1.0|\n",
      "|  1.0|(692,[128,129,130...|(692,[128,129,130...|       1.0|\n",
      "|  1.0|(692,[150,151,152...|(692,[150,151,152...|       1.0|\n",
      "|  1.0|(692,[154,155,156...|(692,[154,155,156...|       1.0|\n",
      "|  1.0|(692,[155,156,157...|(692,[155,156,157...|       1.0|\n",
      "|  1.0|(692,[158,159,160...|(692,[158,159,160...|       1.0|\n",
      "|  1.0|(692,[158,159,160...|(692,[158,159,160...|       1.0|\n",
      "|  0.0|(692,[100,101,102...|(692,[100,101,102...|       0.0|\n",
      "|  0.0|(692,[123,124,125...|(692,[123,124,125...|       0.0|\n",
      "|  0.0|(692,[124,125,126...|(692,[124,125,126...|       0.0|\n",
      "|  0.0|(692,[126,127,128...|(692,[126,127,128...|       0.0|\n",
      "|  0.0|(692,[152,153,154...|(692,[152,153,154...|       0.0|\n",
      "+-----+--------------------+--------------------+----------+\n",
      "only showing top 20 rows\n",
      "\n"
     ]
    },
    {
     "data": {
      "text/plain": [
       "\u001b[36mpredictionsGBTR\u001b[39m: \u001b[32morg\u001b[39m.\u001b[32mapache\u001b[39m.\u001b[32mspark\u001b[39m.\u001b[32msql\u001b[39m.\u001b[32mpackage\u001b[39m.\u001b[32mDataFrame\u001b[39m = [label: double, features: vector ... 2 more fields]"
      ]
     },
     "execution_count": 8,
     "metadata": {},
     "output_type": "execute_result"
    }
   ],
   "source": [
    "val predictionsGBTR = modelGBTR.transform(testData)\n",
    "predictionsGBTR.show()"
   ]
  },
  {
   "cell_type": "markdown",
   "metadata": {},
   "source": [
    "As you can see, the Pipelines API makes it very easy to manage the workflow and replace and/or extend models as you go.\n",
    "\n",
    "\n",
    "## Random Forests vs GBTs\n",
    "\n",
    "Finally, let's compare both ensemble algorithms, Random Forests and Gradient-Boosted Trees. As the number of trees increase, Random Forests reduce the variance and the likelihood of overfitting, improving the performance monotonically. Gradient-Boosted Trees, on the other hand, reduce the bias, but increase the likelihood of overfitting, so the performance can actually decrease if the number of trees grows too large.\n",
    "\n",
    "Other important differences are that Random Forests are highly parallelizable, each tree being trained independently from each other, while Gradient-Boosted Trees are trained one at a time. The algorithms also differ in the usual depth of its trees, while Random Forests usually grow deeper trees, since it can benefit from a large number of trees to\n",
    "compensate for overfitting, Gradient-Boosted Trees are usually grown shallower.\n",
    "\n",
    "* Number of trees\n",
    "  * **RFs**: more trees reduce variance and the likelihood of overfitting; improves performance monotonically\n",
    "  * **GBTs**: more trees reduce bias, but increase the likelihood of overfitting and performance can start to decrease if the number of trees grows too large\n",
    "* Parallelization\n",
    "  * **RFs**: can train multiple trees in parallel\n",
    "  * **GBTs**: train one tree at a time\n",
    "* Depth of trees\n",
    "  * **RFs**: deeper trees\n",
    "  * **GBTs**: shallower trees\n",
    "\n",
    "## Lesson Summary\n",
    "\n",
    "Having completed this lesson, you should now be able to:\n",
    "\n",
    "* Understand the Pipelines API for Random Forests and Gradient-Boosted Trees\n",
    "* Describe default Input and Output columns\n",
    "* Perform classification and regression with RFs and GBTs\n",
    "* Understand and use RFs and GBTs parameters\n",
    "* Outline the differences between RFs and GBTs regarding its parameters\n",
    "\n",
    "### About the Authors\n",
    "\n",
    "[Petro Verkhogliad](https://www.linkedin.com/in/vpetro) is Consulting Manager at Lightbend. He holds a Masters degree in Computer Science with specialization in Intelligent Systems. He is passionate about functional programming and applications of AI."
   ]
  },
  {
   "cell_type": "code",
   "execution_count": 9,
   "metadata": {},
   "outputs": [],
   "source": [
    "sc.stop()"
   ]
  },
  {
   "cell_type": "code",
   "execution_count": null,
   "metadata": {},
   "outputs": [],
   "source": []
  }
 ],
 "metadata": {
  "kernelspec": {
   "display_name": "Scala 2.12.8",
   "language": "scala",
   "name": "scala_2_12_8"
  },
  "language_info": {
   "codemirror_mode": "text/x-scala",
   "file_extension": ".scala",
   "mimetype": "text/x-scala",
   "name": "scala",
   "nbconvert_exporter": "script",
   "version": "2.12.8"
  }
 },
 "nbformat": 4,
 "nbformat_minor": 2
}
