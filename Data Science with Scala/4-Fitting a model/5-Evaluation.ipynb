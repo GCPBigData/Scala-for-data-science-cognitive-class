{
 "cells": [
  {
   "cell_type": "markdown",
   "metadata": {},
   "source": [
    "<a href=\"https://cocl.us/Data_Science_with_Scalla_top\"><img src = \"https://s3-api.us-geo.objectstorage.softlayer.net/cf-courses-data/CognitiveClass/SC0103EN/adds/Data_Science_with_Scalla_notebook_top.png\" width = 750, align = \"center\"></a>\n",
    " <br/>\n",
    "<a><img src=\"https://ibm.box.com/shared/static/ugcqz6ohbvff804xp84y4kqnvvk3bq1g.png\" width=\"200\" align=\"center\"></a>\"\n",
    "\n",
    "# 3.4.5 Evaluation\n",
    "\n",
    "## Lesson Objectives\n",
    "\n",
    "After completing this lesson you should be able to:\n",
    "\n",
    "* Evaluate binary classification algorithms using area under the Receiver Operating Characteristic (ROC) curve\n",
    "* Evaluate multiclass classification and regression algorithms using several metrics\n",
    "* Evaluate logistic and linear regression algorithms using summaries\n",
    "\n",
    "##Evaluators\n",
    "\n",
    "After training a model and making predictions for the test data it is time to evaluate the model.\n",
    "* An evaluator is a class that computes metrics from the predictions\n",
    "* There are three types of evaluators available:\n",
    "  * `BinaryClassificationEvaluator`\n",
    "  * `MultiClassClassificationEvaluator`\n",
    "  * `RegressionEvaluator` \n",
    "\n",
    "## Continuing from previous example\n",
    "\n",
    "If you haven't downloaded the data set from the previous lesson then there is a link in the script to download it to your temporary folder and load it."
   ]
  },
  {
   "cell_type": "code",
   "execution_count": 1,
   "metadata": {},
   "outputs": [
    {
     "name": "stderr",
     "output_type": "stream",
     "text": [
      "Using Spark's default log4j profile: org/apache/spark/log4j-defaults.properties\n"
     ]
    },
    {
     "data": {
      "text/plain": [
       "\u001b[32mimport \u001b[39m\u001b[36m$ivy.$                                   // Or use any other 2.x version here\n",
       "\u001b[39m\n",
       "\u001b[32mimport \u001b[39m\u001b[36m$ivy.$                                     // Or use any other 2.x version here\n",
       "\u001b[39m\n",
       "\u001b[32mimport \u001b[39m\u001b[36m org.apache.spark.SparkContext\n",
       "\u001b[39m\n",
       "\u001b[32mimport \u001b[39m\u001b[36morg.apache.log4j.{Level, Logger}\n",
       "\u001b[39m\n",
       "\u001b[36msc\u001b[39m: \u001b[32mSparkContext\u001b[39m = org.apache.spark.SparkContext@41f3c78a"
      ]
     },
     "execution_count": 1,
     "metadata": {},
     "output_type": "execute_result"
    }
   ],
   "source": [
    "import $ivy.`org.apache.spark::spark-sql:2.4.0` // Or use any other 2.x version here\n",
    "import $ivy.`org.apache.spark::spark-mllib:2.4.0` // Or use any other 2.x version here\n",
    "import  org.apache.spark.SparkContext\n",
    "import org.apache.log4j.{Level, Logger}\n",
    "Logger.getLogger(\"org\").setLevel(Level.OFF)\n",
    "val sc= new SparkContext(\"local[*]\",\"Linear Methods\")"
   ]
  },
  {
   "cell_type": "code",
   "execution_count": 2,
   "metadata": {
    "attributes": {
     "classes": [
      "scala"
     ],
     "id": ""
    }
   },
   "outputs": [
    {
     "data": {
      "text/plain": [
       "\u001b[32mimport \u001b[39m\u001b[36morg.apache.spark.sql.SparkSession\n",
       "\u001b[39m\n",
       "\u001b[36mspark\u001b[39m: \u001b[32mSparkSession\u001b[39m = org.apache.spark.sql.SparkSession@19b44ad\n",
       "\u001b[32mimport \u001b[39m\u001b[36mspark.implicits._\n",
       "\u001b[39m\n",
       "\u001b[32mimport \u001b[39m\u001b[36morg.apache.spark.sql.functions._\u001b[39m"
      ]
     },
     "execution_count": 2,
     "metadata": {},
     "output_type": "execute_result"
    }
   ],
   "source": [
    "import org.apache.spark.sql.SparkSession\n",
    "val spark = SparkSession.builder().getOrCreate()\n",
    "import spark.implicits._\n",
    "import org.apache.spark.sql.functions._"
   ]
  },
  {
   "cell_type": "code",
   "execution_count": 3,
   "metadata": {
    "attributes": {
     "classes": [
      "scala"
     ],
     "id": ""
    }
   },
   "outputs": [
    {
     "data": {
      "text/plain": [
       "\u001b[32mimport \u001b[39m\u001b[36morg.apache.spark.mllib.util.MLUtils.{\n",
       "  convertVectorColumnsFromML => fromML,\n",
       "  convertVectorColumnsToML => toML\n",
       "}\u001b[39m"
      ]
     },
     "execution_count": 3,
     "metadata": {},
     "output_type": "execute_result"
    }
   ],
   "source": [
    "import org.apache.spark.mllib.util.MLUtils.{\n",
    "  convertVectorColumnsFromML => fromML,\n",
    "  convertVectorColumnsToML => toML\n",
    "}"
   ]
  },
  {
   "cell_type": "code",
   "execution_count": 4,
   "metadata": {
    "attributes": {
     "classes": [
      "scala"
     ],
     "id": ""
    }
   },
   "outputs": [
    {
     "data": {
      "text/plain": [
       "\u001b[32mimport \u001b[39m\u001b[36morg.apache.spark.mllib.util.MLUtils\n",
       " \n",
       "\u001b[39m\n",
       "\u001b[36mdata\u001b[39m: \u001b[32morg\u001b[39m.\u001b[32mapache\u001b[39m.\u001b[32mspark\u001b[39m.\u001b[32msql\u001b[39m.\u001b[32mDataset\u001b[39m[\u001b[32morg\u001b[39m.\u001b[32mapache\u001b[39m.\u001b[32mspark\u001b[39m.\u001b[32msql\u001b[39m.\u001b[32mRow\u001b[39m] = [label: double, features: vector]\n",
       "\u001b[36mtrainingData\u001b[39m: \u001b[32morg\u001b[39m.\u001b[32mapache\u001b[39m.\u001b[32mspark\u001b[39m.\u001b[32msql\u001b[39m.\u001b[32mDataset\u001b[39m[\u001b[32morg\u001b[39m.\u001b[32mapache\u001b[39m.\u001b[32mspark\u001b[39m.\u001b[32msql\u001b[39m.\u001b[32mRow\u001b[39m] = [label: double, features: vector]\n",
       "\u001b[36mtestData\u001b[39m: \u001b[32morg\u001b[39m.\u001b[32mapache\u001b[39m.\u001b[32mspark\u001b[39m.\u001b[32msql\u001b[39m.\u001b[32mDataset\u001b[39m[\u001b[32morg\u001b[39m.\u001b[32mapache\u001b[39m.\u001b[32mspark\u001b[39m.\u001b[32msql\u001b[39m.\u001b[32mRow\u001b[39m] = [label: double, features: vector]"
      ]
     },
     "execution_count": 4,
     "metadata": {},
     "output_type": "execute_result"
    }
   ],
   "source": [
    "import org.apache.spark.mllib.util.MLUtils\n",
    " \n",
    "val data = toML(MLUtils.loadLibSVMFile(sc, \"data/sample_libsvm_data.txt\").toDF())\n",
    "\n",
    "val Array(trainingData, testData) = data.randomSplit(Array(0.7, 0.3))"
   ]
  },
  {
   "cell_type": "markdown",
   "metadata": {},
   "source": [
    "## Example of Logistic Regression\n",
    "\n",
    "Now we look at an example of binary classification using Logistic Regression. First I create a new instance of a Logistic Regression and set its parameters:\n",
    "\n",
    "* The maximum number of iterations\n",
    "* Regularization\n",
    "* Elastic Net"
   ]
  },
  {
   "cell_type": "code",
   "execution_count": 5,
   "metadata": {
    "attributes": {
     "classes": [
      "scala"
     ],
     "id": ""
    }
   },
   "outputs": [
    {
     "name": "stderr",
     "output_type": "stream",
     "text": [
      "19/12/19 13:52:31 WARN BLAS: Failed to load implementation from: com.github.fommil.netlib.NativeSystemBLAS\n",
      "19/12/19 13:52:31 WARN BLAS: Failed to load implementation from: com.github.fommil.netlib.NativeRefBLAS\n",
      "19/12/19 13:52:32 INFO OWLQN: Step Size: 0.01023\n",
      "19/12/19 13:52:32 INFO OWLQN: Val and Grad Norm: 0.665304 (rel: 0.0275) 1.15229\n",
      "19/12/19 13:52:32 INFO OWLQN: Step Size: 1.000\n",
      "19/12/19 13:52:32 INFO OWLQN: Val and Grad Norm: 0.620558 (rel: 0.0673) 0.773568\n",
      "19/12/19 13:52:32 INFO OWLQN: Step Size: 1.000\n",
      "19/12/19 13:52:32 INFO OWLQN: Val and Grad Norm: 0.610880 (rel: 0.0156) 0.382182\n",
      "19/12/19 13:52:32 INFO OWLQN: Step Size: 1.000\n",
      "19/12/19 13:52:32 INFO OWLQN: Val and Grad Norm: 0.604111 (rel: 0.0111) 0.254585\n",
      "19/12/19 13:52:32 INFO OWLQN: Step Size: 1.000\n",
      "19/12/19 13:52:32 INFO OWLQN: Val and Grad Norm: 0.601760 (rel: 0.00389) 0.227595\n",
      "19/12/19 13:52:32 INFO OWLQN: Step Size: 0.5000\n",
      "19/12/19 13:52:32 INFO OWLQN: Val and Grad Norm: 0.596657 (rel: 0.00848) 0.241448\n",
      "19/12/19 13:52:33 INFO OWLQN: Step Size: 1.000\n",
      "19/12/19 13:52:33 INFO OWLQN: Val and Grad Norm: 0.594353 (rel: 0.00386) 0.142730\n",
      "19/12/19 13:52:33 INFO OWLQN: Step Size: 1.000\n",
      "19/12/19 13:52:33 INFO OWLQN: Val and Grad Norm: 0.589930 (rel: 0.00744) 0.0919694\n",
      "19/12/19 13:52:33 INFO OWLQN: Step Size: 0.2500\n",
      "19/12/19 13:52:33 INFO OWLQN: Val and Grad Norm: 0.586757 (rel: 0.00538) 0.130160\n",
      "19/12/19 13:52:33 INFO OWLQN: Step Size: 0.5000\n",
      "19/12/19 13:52:33 INFO OWLQN: Val and Grad Norm: 0.585791 (rel: 0.00165) 0.0529136\n",
      "19/12/19 13:52:33 INFO OWLQN: Converged because max iterations reached\n"
     ]
    },
    {
     "name": "stdout",
     "output_type": "stream",
     "text": [
      "Weights: (692,[244,272,300,328,345,346,373,378,401,406,407,427,428,433,434,440,455,456,461,462,468,483,484,489,490,496,511,512,523,539,540,550,551,568],[-9.882735218577889E-5,-1.6459188809518898E-4,-4.566644143167675E-4,-9.84000979370495E-6,-6.694567819262E-5,-4.350900866960413E-5,-5.526361932005142E-5,6.219246643958577E-5,-1.4847873754633821E-5,8.784146559109236E-4,1.1863864066241495E-4,-4.2700585947295114E-5,-1.1209504363120595E-4,3.8932769160215843E-4,0.0010467394925010825,-6.216301627160714E-5,-1.4426377508602758E-4,-1.9542835424619812E-4,6.002196488334172E-5,9.717846959151311E-4,-1.7790659664003415E-4,-1.6724410885496867E-4,-1.855320485158601E-4,5.683581231190236E-5,3.8989219698344396E-4,-4.901394739933316E-4,-2.0326756768035984E-4,-5.234266546945059E-4,-1.1905392061690462E-4,-1.0147509960301204E-4,-5.131815377979167E-4,-1.1616696535847838E-4,-6.628566733740409E-5,-1.7662239931089149E-4]) Intercept: 0.24548156736670593\n"
     ]
    },
    {
     "data": {
      "text/plain": [
       "\u001b[32mimport \u001b[39m\u001b[36morg.apache.spark.ml.classification.LogisticRegression\n",
       "\u001b[39m\n",
       "\u001b[32mimport \u001b[39m\u001b[36morg.apache.spark.ml.classification.BinaryLogisticRegressionSummary\n",
       "\n",
       "\u001b[39m\n",
       "\u001b[36mlogr\u001b[39m: \u001b[32mLogisticRegression\u001b[39m = logreg_1ac6386ba362\n",
       "\u001b[36mlogrModel\u001b[39m: \u001b[32morg\u001b[39m.\u001b[32mapache\u001b[39m.\u001b[32mspark\u001b[39m.\u001b[32mml\u001b[39m.\u001b[32mclassification\u001b[39m.\u001b[32mLogisticRegressionModel\u001b[39m = LogisticRegressionModel: uid = logreg_1ac6386ba362, numClasses = 2, numFeatures = 692"
      ]
     },
     "execution_count": 5,
     "metadata": {},
     "output_type": "execute_result"
    }
   ],
   "source": [
    "import org.apache.spark.ml.classification.LogisticRegression\n",
    "import org.apache.spark.ml.classification.BinaryLogisticRegressionSummary\n",
    "\n",
    "val logr = new LogisticRegression().setMaxIter(10).setRegParam(0.3).setElasticNetParam(0.8)\n",
    "\n",
    "val logrModel = logr.fit(trainingData)\n",
    "\n",
    "println(s\"Weights: ${logrModel.coefficients} Intercept: ${logrModel.intercept}\")"
   ]
  },
  {
   "cell_type": "markdown",
   "metadata": {
    "attributes": {
     "classes": [
      "scala"
     ],
     "id": ""
    }
   },
   "source": [
    "summary"
   ]
  },
  {
   "cell_type": "code",
   "execution_count": 6,
   "metadata": {
    "attributes": {
     "classes": [
      "scala"
     ],
     "id": ""
    }
   },
   "outputs": [
    {
     "data": {
      "text/plain": [
       "\u001b[36mres5\u001b[39m: \u001b[32mArray\u001b[39m[\u001b[32mDouble\u001b[39m] = \u001b[33mArray\u001b[39m(\n",
       "  \u001b[32m0.6840977964176761\u001b[39m,\n",
       "  \u001b[32m0.6653043394447086\u001b[39m,\n",
       "  \u001b[32m0.6205579215485129\u001b[39m,\n",
       "  \u001b[32m0.6108799139980405\u001b[39m,\n",
       "  \u001b[32m0.6041107401429365\u001b[39m,\n",
       "  \u001b[32m0.6017601436002061\u001b[39m,\n",
       "  \u001b[32m0.5966565576843436\u001b[39m,\n",
       "  \u001b[32m0.5943530883713057\u001b[39m,\n",
       "  \u001b[32m0.5899299585158237\u001b[39m,\n",
       "  \u001b[32m0.586756840396425\u001b[39m,\n",
       "  \u001b[32m0.5857905141910918\u001b[39m\n",
       ")"
      ]
     },
     "execution_count": 6,
     "metadata": {},
     "output_type": "execute_result"
    }
   ],
   "source": [
    "logrModel.summary.objectiveHistory"
   ]
  },
  {
   "cell_type": "markdown",
   "metadata": {},
   "source": [
    "## BinaryClassificationEvaluator\n",
    "\n",
    "Let's start with the `BinaryClassificationEvaluator`:\n",
    "\n",
    "* Evaluator for binary classification\n",
    "* Expects two input columns: **rawPrediction** and **label**\n",
    "* Supported metric: `areaUnderROC`\n",
    "\n",
    "As its name states, it is used to evaluate binary classifiers. It expects two input columns, the `rawPrediction` column and the label column. The only supported metric is the area under the ROC curve.\n",
    "\n",
    "This is an example of a Binary Classification Evaluator. I'm going to build upon the Logistic Regression model from the previous lesson and evaluate its predictions. First, I call the `transform` method on the test data to get a `DataFrame` with the predictions, which I name `predictionsLogR`:"
   ]
  },
  {
   "cell_type": "code",
   "execution_count": 7,
   "metadata": {
    "attributes": {
     "classes": [
      "scala"
     ],
     "id": ""
    }
   },
   "outputs": [
    {
     "data": {
      "text/plain": [
       "\u001b[32mimport \u001b[39m\u001b[36morg.apache.spark.ml.evaluation.BinaryClassificationEvaluator\n",
       "\u001b[39m\n",
       "\u001b[36mpredictionsLogR\u001b[39m: \u001b[32morg\u001b[39m.\u001b[32mapache\u001b[39m.\u001b[32mspark\u001b[39m.\u001b[32msql\u001b[39m.\u001b[32mpackage\u001b[39m.\u001b[32mDataFrame\u001b[39m = [label: double, features: vector ... 3 more fields]"
      ]
     },
     "execution_count": 7,
     "metadata": {},
     "output_type": "execute_result"
    }
   ],
   "source": [
    "import org.apache.spark.ml.evaluation.BinaryClassificationEvaluator\n",
    "val predictionsLogR = logrModel.transform(testData)"
   ]
  },
  {
   "cell_type": "markdown",
   "metadata": {},
   "source": [
    "Then, I create a new instance of a `BinaryClassificationEvaluator` and set the corresponding columns as inputs and the metric name to the only available metric, `areaUnderROC`:"
   ]
  },
  {
   "cell_type": "code",
   "execution_count": 8,
   "metadata": {
    "attributes": {
     "classes": [
      "scala"
     ],
     "id": ""
    }
   },
   "outputs": [
    {
     "data": {
      "text/plain": [
       "\u001b[36mevaluator\u001b[39m: \u001b[32mBinaryClassificationEvaluator\u001b[39m = binEval_486c5f9c6188"
      ]
     },
     "execution_count": 8,
     "metadata": {},
     "output_type": "execute_result"
    }
   ],
   "source": [
    "val evaluator = new BinaryClassificationEvaluator().setLabelCol(\"label\").setRawPredictionCol(\"rawPrediction\").setMetricName(\"areaUnderROC\")"
   ]
  },
  {
   "cell_type": "markdown",
   "metadata": {},
   "source": [
    "Now I can call the evaluator's evaluate method on the predictions made by the Logistic Regression to get its area under the ROC curve:"
   ]
  },
  {
   "cell_type": "code",
   "execution_count": 9,
   "metadata": {
    "attributes": {
     "classes": [
      "scala"
     ],
     "id": ""
    }
   },
   "outputs": [
    {
     "data": {
      "text/plain": [
       "\u001b[36mroc\u001b[39m: \u001b[32mDouble\u001b[39m = \u001b[32m1.0\u001b[39m"
      ]
     },
     "execution_count": 9,
     "metadata": {},
     "output_type": "execute_result"
    }
   ],
   "source": [
    "val roc = evaluator.evaluate(predictionsLogR)"
   ]
  },
  {
   "cell_type": "markdown",
   "metadata": {},
   "source": [
    "## MulticlassClassificationEvaluator\n",
    "\n",
    "Often, there are more than two categories you can classify an item into. The Multi-Class Classification Evaluator is an evaluator for multi-class classification problems.\n",
    "\n",
    "* Expects two input columns: **prediction** and **label**\n",
    "* Supported metrics:\n",
    "  * `F1` (default)\n",
    "  * Precision\n",
    "  * Recall\n",
    "  * `weightedPrecision`\n",
    "  * `weightedRecall`\n",
    "\n",
    "## Reusing RF Classification Example I\n",
    "\n",
    "To show what a `Multiclass` Classification Evaluator can do we will need a model that can do more than the two categories the Random Forest classifier we calculated before would do. We will need to prepare the Pipeline for that model.\n",
    "This is the exact script we have run in previous sessions to set up Pipelines for Random Forests and Gradient-Boosting Trees:"
   ]
  },
  {
   "cell_type": "code",
   "execution_count": 10,
   "metadata": {
    "attributes": {
     "classes": [
      "scala"
     ],
     "id": ""
    }
   },
   "outputs": [
    {
     "data": {
      "text/plain": [
       "\u001b[32mimport \u001b[39m\u001b[36morg.apache.spark.ml.Pipeline\n",
       "\u001b[39m\n",
       "\u001b[32mimport \u001b[39m\u001b[36morg.apache.spark.ml.feature.{StringIndexer, IndexToString, VectorIndexer}\n",
       "\n",
       "\u001b[39m\n",
       "\u001b[36mlabelIndexer\u001b[39m: \u001b[32morg\u001b[39m.\u001b[32mapache\u001b[39m.\u001b[32mspark\u001b[39m.\u001b[32mml\u001b[39m.\u001b[32mfeature\u001b[39m.\u001b[32mStringIndexerModel\u001b[39m = strIdx_552853c717c0\n",
       "\u001b[36mlabelConverter\u001b[39m: \u001b[32mIndexToString\u001b[39m = idxToStr_f0b5c26d7959\n",
       "\u001b[36mfeatureIndexer\u001b[39m: \u001b[32morg\u001b[39m.\u001b[32mapache\u001b[39m.\u001b[32mspark\u001b[39m.\u001b[32mml\u001b[39m.\u001b[32mfeature\u001b[39m.\u001b[32mVectorIndexerModel\u001b[39m = vecIdx_a06b1460e39c"
      ]
     },
     "execution_count": 10,
     "metadata": {},
     "output_type": "execute_result"
    }
   ],
   "source": [
    "import org.apache.spark.ml.Pipeline\n",
    "import org.apache.spark.ml.feature.{StringIndexer, IndexToString, VectorIndexer}\n",
    "\n",
    "val labelIndexer = new StringIndexer().setInputCol(\"label\").setOutputCol(\"indexedLabel\").fit(data)\n",
    "val labelConverter = new IndexToString().setInputCol(\"prediction\").setOutputCol(\"predictedLabel\").setLabels(labelIndexer.labels)\n",
    "val featureIndexer = new VectorIndexer().setInputCol(\"features\").setOutputCol(\"indexedFeatures\").setMaxCategories(4).fit(data)"
   ]
  },
  {
   "cell_type": "code",
   "execution_count": 11,
   "metadata": {
    "attributes": {
     "classes": [
      "scala"
     ],
     "id": ""
    }
   },
   "outputs": [
    {
     "data": {
      "text/plain": [
       "\u001b[32mimport \u001b[39m\u001b[36morg.apache.spark.ml.classification.RandomForestClassifier\n",
       "\u001b[39m\n",
       "\u001b[32mimport \u001b[39m\u001b[36morg.apache.spark.ml.classification.RandomForestClassificationModel\n",
       "\n",
       "\u001b[39m\n",
       "\u001b[36mrfC\u001b[39m: \u001b[32mRandomForestClassifier\u001b[39m = rfc_4a7d7fe7fefe"
      ]
     },
     "execution_count": 11,
     "metadata": {},
     "output_type": "execute_result"
    }
   ],
   "source": [
    "import org.apache.spark.ml.classification.RandomForestClassifier\n",
    "import org.apache.spark.ml.classification.RandomForestClassificationModel\n",
    "\n",
    "val rfC = new RandomForestClassifier().setLabelCol(\"indexedLabel\").setFeaturesCol(\"indexedFeatures\").setNumTrees(3)"
   ]
  },
  {
   "cell_type": "markdown",
   "metadata": {},
   "source": [
    "## Reusing RF Classification Example II"
   ]
  },
  {
   "cell_type": "code",
   "execution_count": 12,
   "metadata": {
    "attributes": {
     "classes": [
      "scala"
     ],
     "id": ""
    }
   },
   "outputs": [
    {
     "data": {
      "text/plain": [
       "\u001b[32mimport \u001b[39m\u001b[36morg.apache.spark.ml.Pipeline\n",
       "\n",
       "// split into training and test data\n",
       "\u001b[39m\n",
       "\u001b[36mtrainingData\u001b[39m: \u001b[32morg\u001b[39m.\u001b[32mapache\u001b[39m.\u001b[32mspark\u001b[39m.\u001b[32msql\u001b[39m.\u001b[32mDataset\u001b[39m[\u001b[32morg\u001b[39m.\u001b[32mapache\u001b[39m.\u001b[32mspark\u001b[39m.\u001b[32msql\u001b[39m.\u001b[32mRow\u001b[39m] = [label: double, features: vector]\n",
       "\u001b[36mtestData\u001b[39m: \u001b[32morg\u001b[39m.\u001b[32mapache\u001b[39m.\u001b[32mspark\u001b[39m.\u001b[32msql\u001b[39m.\u001b[32mDataset\u001b[39m[\u001b[32morg\u001b[39m.\u001b[32mapache\u001b[39m.\u001b[32mspark\u001b[39m.\u001b[32msql\u001b[39m.\u001b[32mRow\u001b[39m] = [label: double, features: vector]\n",
       "\u001b[36mpipelineRFC\u001b[39m: \u001b[32mPipeline\u001b[39m = pipeline_f2d43ced89d7\n",
       "\u001b[36mmodelRFC\u001b[39m: \u001b[32morg\u001b[39m.\u001b[32mapache\u001b[39m.\u001b[32mspark\u001b[39m.\u001b[32mml\u001b[39m.\u001b[32mPipelineModel\u001b[39m = pipeline_f2d43ced89d7\n",
       "\u001b[36mpredictionsRFC\u001b[39m: \u001b[32morg\u001b[39m.\u001b[32mapache\u001b[39m.\u001b[32mspark\u001b[39m.\u001b[32msql\u001b[39m.\u001b[32mpackage\u001b[39m.\u001b[32mDataFrame\u001b[39m = [label: double, features: vector ... 6 more fields]"
      ]
     },
     "execution_count": 12,
     "metadata": {},
     "output_type": "execute_result"
    }
   ],
   "source": [
    "import org.apache.spark.ml.Pipeline\n",
    "\n",
    "// split into training and test data\n",
    "val Array(trainingData, testData) = data.randomSplit(Array(0.7, 0.3))\n",
    "\n",
    "val pipelineRFC = new Pipeline().setStages(Array(labelIndexer, featureIndexer, rfC, labelConverter))\n",
    "val modelRFC = pipelineRFC.fit(trainingData)\n",
    "val predictionsRFC = modelRFC.transform(testData)"
   ]
  },
  {
   "cell_type": "markdown",
   "metadata": {},
   "source": [
    "All the rest is exactly the same as before, calling the `fit` method to get a model\n",
    "and calling the `transform` method to make predictions. The predictions are then\n",
    "returned in the `predictionsRFC` `DataFrame`.\n",
    "\n",
    "## MulticlassClassificationEvaluator\n",
    "\n",
    "Now an example of a Multi Class Evaluator. For this example, I can evaluate any of the multiclass classifiers I have trained so far, and I choose to evaluate the predictions made by the Random Forest Classifier, which I previously assigned to the `predictionsRFC` `DataFrame`.\n",
    "\n",
    "The true labels of the test set were in the indexed label column and the predictions made by the model were in its prediction column. So, I create a new instance of a `MulticlassClassificationEvaluator` and set the corresponding columns as inputs. Also, I set the metric to be **precision** instead of the default **F1-score**."
   ]
  },
  {
   "cell_type": "code",
   "execution_count": 13,
   "metadata": {
    "attributes": {
     "classes": [
      "scala"
     ],
     "id": ""
    }
   },
   "outputs": [
    {
     "name": "stdout",
     "output_type": "stream",
     "text": [
      "Test Error = 0.0\n"
     ]
    },
    {
     "data": {
      "text/plain": [
       "\u001b[32mimport \u001b[39m\u001b[36morg.apache.spark.ml.evaluation.MulticlassClassificationEvaluator\n",
       "\n",
       "\u001b[39m\n",
       "\u001b[36mevaluator\u001b[39m: \u001b[32mMulticlassClassificationEvaluator\u001b[39m = mcEval_8050c9fcaf32\n",
       "\u001b[36maccuracy\u001b[39m: \u001b[32mDouble\u001b[39m = \u001b[32m1.0\u001b[39m"
      ]
     },
     "execution_count": 13,
     "metadata": {},
     "output_type": "execute_result"
    }
   ],
   "source": [
    "import org.apache.spark.ml.evaluation.MulticlassClassificationEvaluator\n",
    "\n",
    "val evaluator = new MulticlassClassificationEvaluator().setLabelCol(\"indexedLabel\").setPredictionCol(\"prediction\").setMetricName(\"accuracy\") \n",
    "val accuracy = evaluator.evaluate(predictionsRFC)\n",
    "\n",
    "println(\"Test Error = \" + (1.0 - accuracy))"
   ]
  },
  {
   "cell_type": "markdown",
   "metadata": {},
   "source": [
    "Now I can call the evaluator's evaluate method on the predictions made by the Random Forest Classifier to get the estimated precision, which is 96.6% or, put in another way, a 3.3% test error.\n",
    "\n",
    "## RegressionEvaluator\n",
    "\n",
    "* Evaluator for regression problems\n",
    "* Expects two input columns: **prediction** and **label**\n",
    "* Supported metrics:\n",
    "  * **rmse**: root mean squared error (default)\n",
    "  * **mse**: mean squared error\n",
    "  * **r2**: R2, the coefficient of determination\n",
    "  * **mae**: mean absolute error\n",
    "\n",
    "## Reusing RF Regression Example\n",
    "\n",
    "We will use the previous regression in our previous lesson in Random Forest. If you've come to this lesson directly and don't have the context, here is the code that produces the predictions we will evaluate:"
   ]
  },
  {
   "cell_type": "code",
   "execution_count": 14,
   "metadata": {
    "attributes": {
     "classes": [
      "scala"
     ],
     "id": ""
    }
   },
   "outputs": [
    {
     "data": {
      "text/plain": [
       "\u001b[32mimport \u001b[39m\u001b[36morg.apache.spark.ml.regression.RandomForestRegressor\n",
       "\u001b[39m\n",
       "\u001b[32mimport \u001b[39m\u001b[36morg.apache.spark.ml.regression.RandomForestRegressionModel\n",
       "\n",
       "\u001b[39m\n",
       "\u001b[36mrfR\u001b[39m: \u001b[32mRandomForestRegressor\u001b[39m = rfr_1920995d6392\n",
       "\u001b[36mpipelineRFR\u001b[39m: \u001b[32mPipeline\u001b[39m = pipeline_ae46681c8425\n",
       "\u001b[36mmodelRFR\u001b[39m: \u001b[32morg\u001b[39m.\u001b[32mapache\u001b[39m.\u001b[32mspark\u001b[39m.\u001b[32mml\u001b[39m.\u001b[32mPipelineModel\u001b[39m = pipeline_ae46681c8425\n",
       "\u001b[36mpredictions\u001b[39m: \u001b[32morg\u001b[39m.\u001b[32mapache\u001b[39m.\u001b[32mspark\u001b[39m.\u001b[32msql\u001b[39m.\u001b[32mpackage\u001b[39m.\u001b[32mDataFrame\u001b[39m = [label: double, features: vector ... 2 more fields]"
      ]
     },
     "execution_count": 14,
     "metadata": {},
     "output_type": "execute_result"
    }
   ],
   "source": [
    "import org.apache.spark.ml.regression.RandomForestRegressor\n",
    "import org.apache.spark.ml.regression.RandomForestRegressionModel\n",
    "\n",
    "val rfR = new RandomForestRegressor().setLabelCol(\"label\").setFeaturesCol(\"indexedFeatures\")\n",
    "val pipelineRFR = new Pipeline().setStages(Array(featureIndexer, rfR))\n",
    "val modelRFR = pipelineRFR.fit(trainingData)\n",
    "val predictions = modelRFR.transform(testData)"
   ]
  },
  {
   "cell_type": "markdown",
   "metadata": {},
   "source": [
    "### About the Authors\n",
    "\n",
    "[Petro Verkhogliad](https://www.linkedin.com/in/vpetro) is Consulting Manager at Lightbend. He holds a Masters degree in Computer Science with specialization in Intelligent Systems. He is passionate about functional programming and applications of AI."
   ]
  },
  {
   "cell_type": "code",
   "execution_count": 15,
   "metadata": {},
   "outputs": [],
   "source": [
    "sc.stop()"
   ]
  }
 ],
 "metadata": {
  "kernelspec": {
   "display_name": "Scala 2.12.8",
   "language": "scala",
   "name": "scala_2_12_8"
  },
  "language_info": {
   "codemirror_mode": "text/x-scala",
   "file_extension": ".scala",
   "mimetype": "text/x-scala",
   "name": "scala",
   "nbconvert_exporter": "script",
   "version": "2.12.8"
  }
 },
 "nbformat": 4,
 "nbformat_minor": 2
}
